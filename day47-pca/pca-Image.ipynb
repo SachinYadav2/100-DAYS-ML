{
 "cells": [
  {
   "cell_type": "code",
   "execution_count": 1,
   "metadata": {
    "_cell_guid": "b1076dfc-b9ad-4769-8c92-a6c4dae69d19",
    "_uuid": "8f2839f25d086af736a60e9eeb907d3b93b6e0e5",
    "execution": {
     "iopub.execute_input": "2022-05-02T18:19:41.149899Z",
     "iopub.status.busy": "2022-05-02T18:19:41.149344Z",
     "iopub.status.idle": "2022-05-02T18:19:41.161799Z",
     "shell.execute_reply": "2022-05-02T18:19:41.160629Z",
     "shell.execute_reply.started": "2022-05-02T18:19:41.149859Z"
    }
   },
   "outputs": [],
   "source": [
    "# This Python 3 environment comes with many helpful analytics libraries installed\n",
    "# It is defined by the kaggle/python Docker image: https://github.com/kaggle/docker-python\n",
    "# For example, here's several helpful packages to load\n",
    "\n",
    "import numpy as np # linear algebra\n",
    "import pandas as pd # data processing, CSV file I/O (e.g. pd.read_csv)\n",
    "\n",
    "# Input data files are available in the read-only \"../input/\" directory\n",
    "# For example, running this (by clicking run or pressing Shift+Enter) will list all files under the input directory\n",
    "\n",
    "import os\n",
    "for dirname, _, filenames in os.walk('/kaggle/input'):\n",
    "    for filename in filenames:\n",
    "        print(os.path.join(dirname, filename))\n",
    "\n",
    "# You can write up to 20GB to the current directory (/kaggle/working/) that gets preserved as output when you create a version using \"Save & Run All\" \n",
    "# You can also write temporary files to /kaggle/temp/, but they won't be saved outside of the current session"
   ]
  },
  {
   "cell_type": "code",
   "execution_count": 2,
   "metadata": {
    "execution": {
     "iopub.execute_input": "2022-05-02T18:19:46.813773Z",
     "iopub.status.busy": "2022-05-02T18:19:46.813183Z",
     "iopub.status.idle": "2022-05-02T18:19:50.197059Z",
     "shell.execute_reply": "2022-05-02T18:19:50.196102Z",
     "shell.execute_reply.started": "2022-05-02T18:19:46.813712Z"
    }
   },
   "outputs": [],
   "source": [
    "df = pd.read_csv('train.csv')"
   ]
  },
  {
   "cell_type": "code",
   "execution_count": 3,
   "metadata": {
    "execution": {
     "iopub.execute_input": "2022-05-02T18:19:52.499213Z",
     "iopub.status.busy": "2022-05-02T18:19:52.498879Z",
     "iopub.status.idle": "2022-05-02T18:19:52.536758Z",
     "shell.execute_reply": "2022-05-02T18:19:52.535773Z",
     "shell.execute_reply.started": "2022-05-02T18:19:52.499177Z"
    }
   },
   "outputs": [
    {
     "data": {
      "text/html": [
       "<div>\n",
       "<style scoped>\n",
       "    .dataframe tbody tr th:only-of-type {\n",
       "        vertical-align: middle;\n",
       "    }\n",
       "\n",
       "    .dataframe tbody tr th {\n",
       "        vertical-align: top;\n",
       "    }\n",
       "\n",
       "    .dataframe thead th {\n",
       "        text-align: right;\n",
       "    }\n",
       "</style>\n",
       "<table border=\"1\" class=\"dataframe\">\n",
       "  <thead>\n",
       "    <tr style=\"text-align: right;\">\n",
       "      <th></th>\n",
       "      <th>label</th>\n",
       "      <th>pixel0</th>\n",
       "      <th>pixel1</th>\n",
       "      <th>pixel2</th>\n",
       "      <th>pixel3</th>\n",
       "      <th>pixel4</th>\n",
       "      <th>pixel5</th>\n",
       "      <th>pixel6</th>\n",
       "      <th>pixel7</th>\n",
       "      <th>pixel8</th>\n",
       "      <th>...</th>\n",
       "      <th>pixel774</th>\n",
       "      <th>pixel775</th>\n",
       "      <th>pixel776</th>\n",
       "      <th>pixel777</th>\n",
       "      <th>pixel778</th>\n",
       "      <th>pixel779</th>\n",
       "      <th>pixel780</th>\n",
       "      <th>pixel781</th>\n",
       "      <th>pixel782</th>\n",
       "      <th>pixel783</th>\n",
       "    </tr>\n",
       "  </thead>\n",
       "  <tbody>\n",
       "    <tr>\n",
       "      <th>0</th>\n",
       "      <td>1</td>\n",
       "      <td>0</td>\n",
       "      <td>0</td>\n",
       "      <td>0</td>\n",
       "      <td>0</td>\n",
       "      <td>0</td>\n",
       "      <td>0</td>\n",
       "      <td>0</td>\n",
       "      <td>0</td>\n",
       "      <td>0</td>\n",
       "      <td>...</td>\n",
       "      <td>0</td>\n",
       "      <td>0</td>\n",
       "      <td>0</td>\n",
       "      <td>0</td>\n",
       "      <td>0</td>\n",
       "      <td>0</td>\n",
       "      <td>0</td>\n",
       "      <td>0</td>\n",
       "      <td>0</td>\n",
       "      <td>0</td>\n",
       "    </tr>\n",
       "    <tr>\n",
       "      <th>1</th>\n",
       "      <td>0</td>\n",
       "      <td>0</td>\n",
       "      <td>0</td>\n",
       "      <td>0</td>\n",
       "      <td>0</td>\n",
       "      <td>0</td>\n",
       "      <td>0</td>\n",
       "      <td>0</td>\n",
       "      <td>0</td>\n",
       "      <td>0</td>\n",
       "      <td>...</td>\n",
       "      <td>0</td>\n",
       "      <td>0</td>\n",
       "      <td>0</td>\n",
       "      <td>0</td>\n",
       "      <td>0</td>\n",
       "      <td>0</td>\n",
       "      <td>0</td>\n",
       "      <td>0</td>\n",
       "      <td>0</td>\n",
       "      <td>0</td>\n",
       "    </tr>\n",
       "    <tr>\n",
       "      <th>2</th>\n",
       "      <td>1</td>\n",
       "      <td>0</td>\n",
       "      <td>0</td>\n",
       "      <td>0</td>\n",
       "      <td>0</td>\n",
       "      <td>0</td>\n",
       "      <td>0</td>\n",
       "      <td>0</td>\n",
       "      <td>0</td>\n",
       "      <td>0</td>\n",
       "      <td>...</td>\n",
       "      <td>0</td>\n",
       "      <td>0</td>\n",
       "      <td>0</td>\n",
       "      <td>0</td>\n",
       "      <td>0</td>\n",
       "      <td>0</td>\n",
       "      <td>0</td>\n",
       "      <td>0</td>\n",
       "      <td>0</td>\n",
       "      <td>0</td>\n",
       "    </tr>\n",
       "    <tr>\n",
       "      <th>3</th>\n",
       "      <td>4</td>\n",
       "      <td>0</td>\n",
       "      <td>0</td>\n",
       "      <td>0</td>\n",
       "      <td>0</td>\n",
       "      <td>0</td>\n",
       "      <td>0</td>\n",
       "      <td>0</td>\n",
       "      <td>0</td>\n",
       "      <td>0</td>\n",
       "      <td>...</td>\n",
       "      <td>0</td>\n",
       "      <td>0</td>\n",
       "      <td>0</td>\n",
       "      <td>0</td>\n",
       "      <td>0</td>\n",
       "      <td>0</td>\n",
       "      <td>0</td>\n",
       "      <td>0</td>\n",
       "      <td>0</td>\n",
       "      <td>0</td>\n",
       "    </tr>\n",
       "    <tr>\n",
       "      <th>4</th>\n",
       "      <td>0</td>\n",
       "      <td>0</td>\n",
       "      <td>0</td>\n",
       "      <td>0</td>\n",
       "      <td>0</td>\n",
       "      <td>0</td>\n",
       "      <td>0</td>\n",
       "      <td>0</td>\n",
       "      <td>0</td>\n",
       "      <td>0</td>\n",
       "      <td>...</td>\n",
       "      <td>0</td>\n",
       "      <td>0</td>\n",
       "      <td>0</td>\n",
       "      <td>0</td>\n",
       "      <td>0</td>\n",
       "      <td>0</td>\n",
       "      <td>0</td>\n",
       "      <td>0</td>\n",
       "      <td>0</td>\n",
       "      <td>0</td>\n",
       "    </tr>\n",
       "    <tr>\n",
       "      <th>...</th>\n",
       "      <td>...</td>\n",
       "      <td>...</td>\n",
       "      <td>...</td>\n",
       "      <td>...</td>\n",
       "      <td>...</td>\n",
       "      <td>...</td>\n",
       "      <td>...</td>\n",
       "      <td>...</td>\n",
       "      <td>...</td>\n",
       "      <td>...</td>\n",
       "      <td>...</td>\n",
       "      <td>...</td>\n",
       "      <td>...</td>\n",
       "      <td>...</td>\n",
       "      <td>...</td>\n",
       "      <td>...</td>\n",
       "      <td>...</td>\n",
       "      <td>...</td>\n",
       "      <td>...</td>\n",
       "      <td>...</td>\n",
       "      <td>...</td>\n",
       "    </tr>\n",
       "    <tr>\n",
       "      <th>41995</th>\n",
       "      <td>0</td>\n",
       "      <td>0</td>\n",
       "      <td>0</td>\n",
       "      <td>0</td>\n",
       "      <td>0</td>\n",
       "      <td>0</td>\n",
       "      <td>0</td>\n",
       "      <td>0</td>\n",
       "      <td>0</td>\n",
       "      <td>0</td>\n",
       "      <td>...</td>\n",
       "      <td>0</td>\n",
       "      <td>0</td>\n",
       "      <td>0</td>\n",
       "      <td>0</td>\n",
       "      <td>0</td>\n",
       "      <td>0</td>\n",
       "      <td>0</td>\n",
       "      <td>0</td>\n",
       "      <td>0</td>\n",
       "      <td>0</td>\n",
       "    </tr>\n",
       "    <tr>\n",
       "      <th>41996</th>\n",
       "      <td>1</td>\n",
       "      <td>0</td>\n",
       "      <td>0</td>\n",
       "      <td>0</td>\n",
       "      <td>0</td>\n",
       "      <td>0</td>\n",
       "      <td>0</td>\n",
       "      <td>0</td>\n",
       "      <td>0</td>\n",
       "      <td>0</td>\n",
       "      <td>...</td>\n",
       "      <td>0</td>\n",
       "      <td>0</td>\n",
       "      <td>0</td>\n",
       "      <td>0</td>\n",
       "      <td>0</td>\n",
       "      <td>0</td>\n",
       "      <td>0</td>\n",
       "      <td>0</td>\n",
       "      <td>0</td>\n",
       "      <td>0</td>\n",
       "    </tr>\n",
       "    <tr>\n",
       "      <th>41997</th>\n",
       "      <td>7</td>\n",
       "      <td>0</td>\n",
       "      <td>0</td>\n",
       "      <td>0</td>\n",
       "      <td>0</td>\n",
       "      <td>0</td>\n",
       "      <td>0</td>\n",
       "      <td>0</td>\n",
       "      <td>0</td>\n",
       "      <td>0</td>\n",
       "      <td>...</td>\n",
       "      <td>0</td>\n",
       "      <td>0</td>\n",
       "      <td>0</td>\n",
       "      <td>0</td>\n",
       "      <td>0</td>\n",
       "      <td>0</td>\n",
       "      <td>0</td>\n",
       "      <td>0</td>\n",
       "      <td>0</td>\n",
       "      <td>0</td>\n",
       "    </tr>\n",
       "    <tr>\n",
       "      <th>41998</th>\n",
       "      <td>6</td>\n",
       "      <td>0</td>\n",
       "      <td>0</td>\n",
       "      <td>0</td>\n",
       "      <td>0</td>\n",
       "      <td>0</td>\n",
       "      <td>0</td>\n",
       "      <td>0</td>\n",
       "      <td>0</td>\n",
       "      <td>0</td>\n",
       "      <td>...</td>\n",
       "      <td>0</td>\n",
       "      <td>0</td>\n",
       "      <td>0</td>\n",
       "      <td>0</td>\n",
       "      <td>0</td>\n",
       "      <td>0</td>\n",
       "      <td>0</td>\n",
       "      <td>0</td>\n",
       "      <td>0</td>\n",
       "      <td>0</td>\n",
       "    </tr>\n",
       "    <tr>\n",
       "      <th>41999</th>\n",
       "      <td>9</td>\n",
       "      <td>0</td>\n",
       "      <td>0</td>\n",
       "      <td>0</td>\n",
       "      <td>0</td>\n",
       "      <td>0</td>\n",
       "      <td>0</td>\n",
       "      <td>0</td>\n",
       "      <td>0</td>\n",
       "      <td>0</td>\n",
       "      <td>...</td>\n",
       "      <td>0</td>\n",
       "      <td>0</td>\n",
       "      <td>0</td>\n",
       "      <td>0</td>\n",
       "      <td>0</td>\n",
       "      <td>0</td>\n",
       "      <td>0</td>\n",
       "      <td>0</td>\n",
       "      <td>0</td>\n",
       "      <td>0</td>\n",
       "    </tr>\n",
       "  </tbody>\n",
       "</table>\n",
       "<p>42000 rows × 785 columns</p>\n",
       "</div>"
      ],
      "text/plain": [
       "       label  pixel0  pixel1  pixel2  pixel3  pixel4  pixel5  pixel6  pixel7  \\\n",
       "0          1       0       0       0       0       0       0       0       0   \n",
       "1          0       0       0       0       0       0       0       0       0   \n",
       "2          1       0       0       0       0       0       0       0       0   \n",
       "3          4       0       0       0       0       0       0       0       0   \n",
       "4          0       0       0       0       0       0       0       0       0   \n",
       "...      ...     ...     ...     ...     ...     ...     ...     ...     ...   \n",
       "41995      0       0       0       0       0       0       0       0       0   \n",
       "41996      1       0       0       0       0       0       0       0       0   \n",
       "41997      7       0       0       0       0       0       0       0       0   \n",
       "41998      6       0       0       0       0       0       0       0       0   \n",
       "41999      9       0       0       0       0       0       0       0       0   \n",
       "\n",
       "       pixel8  ...  pixel774  pixel775  pixel776  pixel777  pixel778  \\\n",
       "0           0  ...         0         0         0         0         0   \n",
       "1           0  ...         0         0         0         0         0   \n",
       "2           0  ...         0         0         0         0         0   \n",
       "3           0  ...         0         0         0         0         0   \n",
       "4           0  ...         0         0         0         0         0   \n",
       "...       ...  ...       ...       ...       ...       ...       ...   \n",
       "41995       0  ...         0         0         0         0         0   \n",
       "41996       0  ...         0         0         0         0         0   \n",
       "41997       0  ...         0         0         0         0         0   \n",
       "41998       0  ...         0         0         0         0         0   \n",
       "41999       0  ...         0         0         0         0         0   \n",
       "\n",
       "       pixel779  pixel780  pixel781  pixel782  pixel783  \n",
       "0             0         0         0         0         0  \n",
       "1             0         0         0         0         0  \n",
       "2             0         0         0         0         0  \n",
       "3             0         0         0         0         0  \n",
       "4             0         0         0         0         0  \n",
       "...         ...       ...       ...       ...       ...  \n",
       "41995         0         0         0         0         0  \n",
       "41996         0         0         0         0         0  \n",
       "41997         0         0         0         0         0  \n",
       "41998         0         0         0         0         0  \n",
       "41999         0         0         0         0         0  \n",
       "\n",
       "[42000 rows x 785 columns]"
      ]
     },
     "execution_count": 3,
     "metadata": {},
     "output_type": "execute_result"
    }
   ],
   "source": [
    "df"
   ]
  },
  {
   "cell_type": "code",
   "execution_count": 12,
   "metadata": {},
   "outputs": [
    {
     "data": {
      "text/plain": [
       "(42000, 785)"
      ]
     },
     "execution_count": 12,
     "metadata": {},
     "output_type": "execute_result"
    }
   ],
   "source": [
    "df.shape"
   ]
  },
  {
   "cell_type": "code",
   "execution_count": 4,
   "metadata": {
    "execution": {
     "iopub.execute_input": "2022-05-02T15:43:38.728235Z",
     "iopub.status.busy": "2022-05-02T15:43:38.727918Z",
     "iopub.status.idle": "2022-05-02T15:43:38.732394Z",
     "shell.execute_reply": "2022-05-02T15:43:38.731568Z",
     "shell.execute_reply.started": "2022-05-02T15:43:38.728201Z"
    }
   },
   "outputs": [],
   "source": [
    "import matplotlib.pyplot as plt"
   ]
  },
  {
   "cell_type": "code",
   "execution_count": 5,
   "metadata": {
    "execution": {
     "iopub.execute_input": "2022-05-02T15:45:27.180088Z",
     "iopub.status.busy": "2022-05-02T15:45:27.179813Z",
     "iopub.status.idle": "2022-05-02T15:45:27.359497Z",
     "shell.execute_reply": "2022-05-02T15:45:27.358838Z",
     "shell.execute_reply.started": "2022-05-02T15:45:27.180055Z"
    }
   },
   "outputs": [
    {
     "data": {
      "text/plain": [
       "<matplotlib.image.AxesImage at 0x1d05a42f640>"
      ]
     },
     "execution_count": 5,
     "metadata": {},
     "output_type": "execute_result"
    },
    {
     "data": {
      "image/png": "[encoded data removed]",
      "text/plain": [
       "<Figure size 432x288 with 1 Axes>"
      ]
     },
     "metadata": {
      "needs_background": "light"
     },
     "output_type": "display_data"
    }
   ],
   "source": [
    "plt.imshow(df.iloc[1212,1:].values.reshape(28,28))\n"
   ]
  },
  {
   "cell_type": "code",
   "execution_count": 6,
   "metadata": {
    "execution": {
     "iopub.execute_input": "2022-05-02T15:45:03.310216Z",
     "iopub.status.busy": "2022-05-02T15:45:03.309531Z",
     "iopub.status.idle": "2022-05-02T15:45:03.491504Z",
     "shell.execute_reply": "2022-05-02T15:45:03.490818Z",
     "shell.execute_reply.started": "2022-05-02T15:45:03.310176Z"
    }
   },
   "outputs": [
    {
     "data": {
      "text/plain": [
       "<matplotlib.image.AxesImage at 0x1d05a50dbb0>"
      ]
     },
     "execution_count": 6,
     "metadata": {},
     "output_type": "execute_result"
    },
    {
     "data": {
      "image/png": "[encoded data removed]",
      "text/plain": [
       "<Figure size 432x288 with 1 Axes>"
      ]
     },
     "metadata": {
      "needs_background": "light"
     },
     "output_type": "display_data"
    }
   ],
   "source": [
    "plt.imshow(df.iloc[1216,1:].values.reshape(28,28))"
   ]
  },
  {
   "cell_type": "code",
   "execution_count": 7,
   "metadata": {
    "execution": {
     "iopub.execute_input": "2022-05-02T15:46:01.438860Z",
     "iopub.status.busy": "2022-05-02T15:46:01.438547Z",
     "iopub.status.idle": "2022-05-02T15:46:01.458830Z",
     "shell.execute_reply": "2022-05-02T15:46:01.457958Z",
     "shell.execute_reply.started": "2022-05-02T15:46:01.438827Z"
    }
   },
   "outputs": [
    {
     "data": {
      "text/html": [
       "<div>\n",
       "<style scoped>\n",
       "    .dataframe tbody tr th:only-of-type {\n",
       "        vertical-align: middle;\n",
       "    }\n",
       "\n",
       "    .dataframe tbody tr th {\n",
       "        vertical-align: top;\n",
       "    }\n",
       "\n",
       "    .dataframe thead th {\n",
       "        text-align: right;\n",
       "    }\n",
       "</style>\n",
       "<table border=\"1\" class=\"dataframe\">\n",
       "  <thead>\n",
       "    <tr style=\"text-align: right;\">\n",
       "      <th></th>\n",
       "      <th>label</th>\n",
       "      <th>pixel0</th>\n",
       "      <th>pixel1</th>\n",
       "      <th>pixel2</th>\n",
       "      <th>pixel3</th>\n",
       "      <th>pixel4</th>\n",
       "      <th>pixel5</th>\n",
       "      <th>pixel6</th>\n",
       "      <th>pixel7</th>\n",
       "      <th>pixel8</th>\n",
       "      <th>...</th>\n",
       "      <th>pixel774</th>\n",
       "      <th>pixel775</th>\n",
       "      <th>pixel776</th>\n",
       "      <th>pixel777</th>\n",
       "      <th>pixel778</th>\n",
       "      <th>pixel779</th>\n",
       "      <th>pixel780</th>\n",
       "      <th>pixel781</th>\n",
       "      <th>pixel782</th>\n",
       "      <th>pixel783</th>\n",
       "    </tr>\n",
       "  </thead>\n",
       "  <tbody>\n",
       "    <tr>\n",
       "      <th>32200</th>\n",
       "      <td>5</td>\n",
       "      <td>0</td>\n",
       "      <td>0</td>\n",
       "      <td>0</td>\n",
       "      <td>0</td>\n",
       "      <td>0</td>\n",
       "      <td>0</td>\n",
       "      <td>0</td>\n",
       "      <td>0</td>\n",
       "      <td>0</td>\n",
       "      <td>...</td>\n",
       "      <td>0</td>\n",
       "      <td>0</td>\n",
       "      <td>0</td>\n",
       "      <td>0</td>\n",
       "      <td>0</td>\n",
       "      <td>0</td>\n",
       "      <td>0</td>\n",
       "      <td>0</td>\n",
       "      <td>0</td>\n",
       "      <td>0</td>\n",
       "    </tr>\n",
       "  </tbody>\n",
       "</table>\n",
       "<p>1 rows × 785 columns</p>\n",
       "</div>"
      ],
      "text/plain": [
       "       label  pixel0  pixel1  pixel2  pixel3  pixel4  pixel5  pixel6  pixel7  \\\n",
       "32200      5       0       0       0       0       0       0       0       0   \n",
       "\n",
       "       pixel8  ...  pixel774  pixel775  pixel776  pixel777  pixel778  \\\n",
       "32200       0  ...         0         0         0         0         0   \n",
       "\n",
       "       pixel779  pixel780  pixel781  pixel782  pixel783  \n",
       "32200         0         0         0         0         0  \n",
       "\n",
       "[1 rows x 785 columns]"
      ]
     },
     "execution_count": 7,
     "metadata": {},
     "output_type": "execute_result"
    }
   ],
   "source": [
    "df.sample()"
   ]
  },
  {
   "cell_type": "code",
   "execution_count": 11,
   "metadata": {
    "execution": {
     "iopub.execute_input": "2022-05-02T15:46:15.202757Z",
     "iopub.status.busy": "2022-05-02T15:46:15.202448Z",
     "iopub.status.idle": "2022-05-02T15:46:15.381527Z",
     "shell.execute_reply": "2022-05-02T15:46:15.380603Z",
     "shell.execute_reply.started": "2022-05-02T15:46:15.202719Z"
    }
   },
   "outputs": [
    {
     "data": {
      "text/plain": [
       "<matplotlib.image.AxesImage at 0x1d05a63fc70>"
      ]
     },
     "execution_count": 11,
     "metadata": {},
     "output_type": "execute_result"
    },
    {
     "data": {
      "image/png": "[encoded data removed]",
      "text/plain": [
       "<Figure size 432x288 with 1 Axes>"
      ]
     },
     "metadata": {
      "needs_background": "light"
     },
     "output_type": "display_data"
    }
   ],
   "source": [
    "plt.imshow(df.iloc[38392,1:].values.reshape(28,28))"
   ]
  },
  {
   "cell_type": "code",
   "execution_count": 9,
   "metadata": {
    "execution": {
     "iopub.execute_input": "2022-05-02T18:20:00.084210Z",
     "iopub.status.busy": "2022-05-02T18:20:00.083909Z",
     "iopub.status.idle": "2022-05-02T18:20:00.090047Z",
     "shell.execute_reply": "2022-05-02T18:20:00.088891Z",
     "shell.execute_reply.started": "2022-05-02T18:20:00.084180Z"
    }
   },
   "outputs": [],
   "source": [
    "X = df.iloc[:,1:]\n",
    "y = df.iloc[:,0]"
   ]
  },
  {
   "cell_type": "markdown",
   "metadata": {},
   "source": []
  },
  {
   "cell_type": "code",
   "execution_count": 10,
   "metadata": {
    "execution": {
     "iopub.execute_input": "2022-05-02T18:20:04.078803Z",
     "iopub.status.busy": "2022-05-02T18:20:04.078032Z",
     "iopub.status.idle": "2022-05-02T18:20:05.219046Z",
     "shell.execute_reply": "2022-05-02T18:20:05.218247Z",
     "shell.execute_reply.started": "2022-05-02T18:20:04.078762Z"
    }
   },
   "outputs": [],
   "source": [
    "from sklearn.model_selection import train_test_split "
   ]
  },
  {
   "cell_type": "code",
   "execution_count": 11,
   "metadata": {
    "execution": {
     "iopub.execute_input": "2022-05-02T18:20:19.027984Z",
     "iopub.status.busy": "2022-05-02T18:20:19.027483Z",
     "iopub.status.idle": "2022-05-02T18:20:19.446936Z",
     "shell.execute_reply": "2022-05-02T18:20:19.446188Z",
     "shell.execute_reply.started": "2022-05-02T18:20:19.027947Z"
    }
   },
   "outputs": [],
   "source": [
    "X_train,X_test,y_train,y_test = train_test_split(X,y,test_size=0.2,random_state=42\n",
    "                                                )"
   ]
  },
  {
   "cell_type": "code",
   "execution_count": 12,
   "metadata": {
    "execution": {
     "iopub.execute_input": "2022-05-02T16:13:07.945604Z",
     "iopub.status.busy": "2022-05-02T16:13:07.945166Z",
     "iopub.status.idle": "2022-05-02T16:13:07.950332Z",
     "shell.execute_reply": "2022-05-02T16:13:07.949711Z",
     "shell.execute_reply.started": "2022-05-02T16:13:07.945570Z"
    }
   },
   "outputs": [
    {
     "data": {
      "text/plain": [
       "(33600, 784)"
      ]
     },
     "execution_count": 12,
     "metadata": {},
     "output_type": "execute_result"
    }
   ],
   "source": [
    "X_train.shape"
   ]
  },
  {
   "cell_type": "code",
   "execution_count": 13,
   "metadata": {
    "execution": {
     "iopub.execute_input": "2022-05-02T18:21:28.877284Z",
     "iopub.status.busy": "2022-05-02T18:21:28.876965Z",
     "iopub.status.idle": "2022-05-02T18:21:28.913434Z",
     "shell.execute_reply": "2022-05-02T18:21:28.912690Z",
     "shell.execute_reply.started": "2022-05-02T18:21:28.877253Z"
    }
   },
   "outputs": [],
   "source": [
    "from sklearn.neighbors import KNeighborsClassifier"
   ]
  },
  {
   "cell_type": "code",
   "execution_count": 14,
   "metadata": {
    "execution": {
     "iopub.execute_input": "2022-05-02T18:21:32.784191Z",
     "iopub.status.busy": "2022-05-02T18:21:32.783148Z",
     "iopub.status.idle": "2022-05-02T18:21:32.788435Z",
     "shell.execute_reply": "2022-05-02T18:21:32.787794Z",
     "shell.execute_reply.started": "2022-05-02T18:21:32.784129Z"
    }
   },
   "outputs": [],
   "source": [
    "knn = KNeighborsClassifier()"
   ]
  },
  {
   "cell_type": "code",
   "execution_count": 15,
   "metadata": {
    "execution": {
     "iopub.execute_input": "2022-05-02T16:13:11.912505Z",
     "iopub.status.busy": "2022-05-02T16:13:11.912220Z",
     "iopub.status.idle": "2022-05-02T16:13:11.927382Z",
     "shell.execute_reply": "2022-05-02T16:13:11.926796Z",
     "shell.execute_reply.started": "2022-05-02T16:13:11.912457Z"
    }
   },
   "outputs": [
    {
     "data": {
      "text/plain": [
       "KNeighborsClassifier()"
      ]
     },
     "execution_count": 15,
     "metadata": {},
     "output_type": "execute_result"
    }
   ],
   "source": [
    "knn.fit(X_train,y_train)"
   ]
  },
  {
   "cell_type": "code",
   "execution_count": null,
   "metadata": {
    "execution": {
     "iopub.execute_input": "2022-05-02T16:13:13.353713Z",
     "iopub.status.busy": "2022-05-02T16:13:13.353371Z",
     "iopub.status.idle": "2022-05-02T16:14:01.728773Z",
     "shell.execute_reply": "2022-05-02T16:14:01.727799Z",
     "shell.execute_reply.started": "2022-05-02T16:13:13.353678Z"
    }
   },
   "outputs": [],
   "source": [
    "y_pred = knn.predict(X_test)"
   ]
  },
  {
   "cell_type": "code",
   "execution_count": null,
   "metadata": {
    "execution": {
     "iopub.execute_input": "2022-05-02T16:18:34.305814Z",
     "iopub.status.busy": "2022-05-02T16:18:34.305521Z",
     "iopub.status.idle": "2022-05-02T16:18:46.380261Z",
     "shell.execute_reply": "2022-05-02T16:18:46.379356Z",
     "shell.execute_reply.started": "2022-05-02T16:18:34.305781Z"
    }
   },
   "outputs": [],
   "source": [
    "import time \n",
    "start = time.time()\n",
    "y_pred = knn.predict(X_test)\n",
    "print(time.time()-start)"
   ]
  },
  {
   "cell_type": "code",
   "execution_count": null,
   "metadata": {
    "execution": {
     "iopub.execute_input": "2022-05-02T18:35:41.952583Z",
     "iopub.status.busy": "2022-05-02T18:35:41.952176Z",
     "iopub.status.idle": "2022-05-02T18:35:41.961274Z",
     "shell.execute_reply": "2022-05-02T18:35:41.960130Z",
     "shell.execute_reply.started": "2022-05-02T18:35:41.952534Z"
    }
   },
   "outputs": [],
   "source": [
    "from sklearn.metrics import accuracy_score\n",
    "accuracy_score(y_test,y_pred)"
   ]
  },
  {
   "cell_type": "markdown",
   "metadata": {},
   "source": [
    "# PCA USE KARKE"
   ]
  },
  {
   "cell_type": "markdown",
   "metadata": {},
   "source": [
    "- 1 Step"
   ]
  },
  {
   "cell_type": "markdown",
   "metadata": {
    "execution": {
     "iopub.execute_input": "2022-05-02T16:27:56.714134Z",
     "iopub.status.busy": "2022-05-02T16:27:56.713427Z",
     "iopub.status.idle": "2022-05-02T16:27:56.719136Z",
     "shell.execute_reply": "2022-05-02T16:27:56.718537Z",
     "shell.execute_reply.started": "2022-05-02T16:27:56.714092Z"
    }
   },
   "source": []
  },
  {
   "cell_type": "code",
   "execution_count": null,
   "metadata": {
    "execution": {
     "iopub.execute_input": "2022-05-02T18:20:29.789528Z",
     "iopub.status.busy": "2022-05-02T18:20:29.789076Z",
     "iopub.status.idle": "2022-05-02T18:20:29.793812Z",
     "shell.execute_reply": "2022-05-02T18:20:29.792845Z",
     "shell.execute_reply.started": "2022-05-02T18:20:29.789494Z"
    }
   },
   "outputs": [],
   "source": [
    "from sklearn.preprocessing import StandardScaler\n",
    "scaler = StandardScaler()"
   ]
  },
  {
   "cell_type": "markdown",
   "metadata": {},
   "source": []
  },
  {
   "cell_type": "code",
   "execution_count": null,
   "metadata": {
    "execution": {
     "iopub.execute_input": "2022-05-02T18:20:36.059428Z",
     "iopub.status.busy": "2022-05-02T18:20:36.058982Z",
     "iopub.status.idle": "2022-05-02T18:20:36.767323Z",
     "shell.execute_reply": "2022-05-02T18:20:36.766510Z",
     "shell.execute_reply.started": "2022-05-02T18:20:36.059396Z"
    }
   },
   "outputs": [],
   "source": [
    "X_train = scaler.fit_transform(X_train)\n",
    "X_test  = scaler.transform(X_test)"
   ]
  },
  {
   "cell_type": "markdown",
   "metadata": {},
   "source": [
    "# 2 Step aply pca\n"
   ]
  },
  {
   "cell_type": "code",
   "execution_count": null,
   "metadata": {
    "execution": {
     "iopub.execute_input": "2022-05-02T18:38:11.853368Z",
     "iopub.status.busy": "2022-05-02T18:38:11.853062Z",
     "iopub.status.idle": "2022-05-02T18:38:11.858724Z",
     "shell.execute_reply": "2022-05-02T18:38:11.857126Z",
     "shell.execute_reply.started": "2022-05-02T18:38:11.853339Z"
    }
   },
   "outputs": [],
   "source": [
    "from sklearn.decomposition import PCA"
   ]
  },
  {
   "cell_type": "code",
   "execution_count": null,
   "metadata": {
    "execution": {
     "iopub.execute_input": "2022-05-02T18:39:52.649233Z",
     "iopub.status.busy": "2022-05-02T18:39:52.648888Z",
     "iopub.status.idle": "2022-05-02T18:39:52.654746Z",
     "shell.execute_reply": "2022-05-02T18:39:52.653527Z",
     "shell.execute_reply.started": "2022-05-02T18:39:52.649198Z"
    }
   },
   "outputs": [],
   "source": [
    "pca = PCA(n_components=750)  #100"
   ]
  },
  {
   "cell_type": "code",
   "execution_count": null,
   "metadata": {
    "execution": {
     "iopub.execute_input": "2022-05-02T18:39:56.158632Z",
     "iopub.status.busy": "2022-05-02T18:39:56.158359Z",
     "iopub.status.idle": "2022-05-02T18:40:00.494224Z",
     "shell.execute_reply": "2022-05-02T18:40:00.493164Z",
     "shell.execute_reply.started": "2022-05-02T18:39:56.158603Z"
    }
   },
   "outputs": [],
   "source": [
    "X_train_trf = pca.fit_transform(X_train)\n",
    "X_test_trf = pca.transform(X_test)\n"
   ]
  },
  {
   "cell_type": "code",
   "execution_count": null,
   "metadata": {
    "execution": {
     "iopub.execute_input": "2022-05-02T18:40:00.496639Z",
     "iopub.status.busy": "2022-05-02T18:40:00.496132Z",
     "iopub.status.idle": "2022-05-02T18:40:00.503857Z",
     "shell.execute_reply": "2022-05-02T18:40:00.502907Z",
     "shell.execute_reply.started": "2022-05-02T18:40:00.496591Z"
    }
   },
   "outputs": [],
   "source": [
    "X_train_trf.shape"
   ]
  },
  {
   "cell_type": "code",
   "execution_count": null,
   "metadata": {
    "execution": {
     "iopub.execute_input": "2022-05-02T18:40:03.578320Z",
     "iopub.status.busy": "2022-05-02T18:40:03.577588Z",
     "iopub.status.idle": "2022-05-02T18:40:03.582204Z",
     "shell.execute_reply": "2022-05-02T18:40:03.581526Z",
     "shell.execute_reply.started": "2022-05-02T18:40:03.578286Z"
    }
   },
   "outputs": [],
   "source": [
    "knn = KNeighborsClassifier()"
   ]
  },
  {
   "cell_type": "code",
   "execution_count": null,
   "metadata": {
    "execution": {
     "iopub.execute_input": "2022-05-02T18:40:07.253645Z",
     "iopub.status.busy": "2022-05-02T18:40:07.252785Z",
     "iopub.status.idle": "2022-05-02T18:40:07.291022Z",
     "shell.execute_reply": "2022-05-02T18:40:07.289951Z",
     "shell.execute_reply.started": "2022-05-02T18:40:07.253598Z"
    }
   },
   "outputs": [],
   "source": [
    "knn.fit(X_train_trf,y_train)"
   ]
  },
  {
   "cell_type": "code",
   "execution_count": null,
   "metadata": {
    "execution": {
     "iopub.execute_input": "2022-05-02T18:40:11.126472Z",
     "iopub.status.busy": "2022-05-02T18:40:11.126157Z",
     "iopub.status.idle": "2022-05-02T18:40:23.691709Z",
     "shell.execute_reply": "2022-05-02T18:40:23.690878Z",
     "shell.execute_reply.started": "2022-05-02T18:40:11.126438Z"
    }
   },
   "outputs": [],
   "source": [
    "y_pred = knn.predict(X_test_trf)"
   ]
  },
  {
   "cell_type": "markdown",
   "metadata": {},
   "source": [
    "**NOW SEE ki Accuracy todi se kam hue bas h PCA se jbki Columns 100 h ab phle 784 the**"
   ]
  },
  {
   "cell_type": "code",
   "execution_count": null,
   "metadata": {
    "execution": {
     "iopub.execute_input": "2022-05-02T18:40:28.103500Z",
     "iopub.status.busy": "2022-05-02T18:40:28.102654Z",
     "iopub.status.idle": "2022-05-02T18:40:28.110687Z",
     "shell.execute_reply": "2022-05-02T18:40:28.109308Z",
     "shell.execute_reply.started": "2022-05-02T18:40:28.103443Z"
    }
   },
   "outputs": [],
   "source": [
    "accuracy_score(y_test,y_pred)"
   ]
  },
  {
   "cell_type": "markdown",
   "metadata": {},
   "source": [
    "## Ham yha dekhange ki one by one kese accurcy bad rhi using loop"
   ]
  },
  {
   "cell_type": "code",
   "execution_count": null,
   "metadata": {
    "execution": {
     "iopub.execute_input": "2022-05-02T16:57:49.465201Z",
     "iopub.status.busy": "2022-05-02T16:57:49.464644Z",
     "iopub.status.idle": "2022-05-02T17:05:50.652750Z",
     "shell.execute_reply": "2022-05-02T17:05:50.651417Z",
     "shell.execute_reply.started": "2022-05-02T16:57:49.465166Z"
    }
   },
   "outputs": [],
   "source": [
    "for i in range(1,785):\n",
    "    pca = PCA(n_components=i)\n",
    "    X_train_trf = pca.fit_transform(X_train)\n",
    "    X_test_trf = pca.transform(X_test)\n",
    "    knn = KNeighborsClassifier()\n",
    "    knn.fit(X_train_trf,y_train)\n",
    "    y_pred = knn.predict(X_test_trf)\n",
    "    print(\"one By one ese bad rhi h Accu\",accuracy_score(y_test,y_pred))"
   ]
  },
  {
   "cell_type": "code",
   "execution_count": null,
   "metadata": {
    "execution": {
     "iopub.execute_input": "2022-05-02T17:15:37.900197Z",
     "iopub.status.busy": "2022-05-02T17:15:37.899504Z",
     "iopub.status.idle": "2022-05-02T17:15:40.826778Z",
     "shell.execute_reply": "2022-05-02T17:15:40.825752Z",
     "shell.execute_reply.started": "2022-05-02T17:15:37.900163Z"
    }
   },
   "outputs": [],
   "source": [
    "pca = PCA(n_components=2)\n",
    "X_train_trf = pca.fit_transform(X_train)\n",
    "X_test_trf = pca.transform(X_test)\n",
    "X_train_trf"
   ]
  },
  {
   "cell_type": "code",
   "execution_count": null,
   "metadata": {
    "execution": {
     "iopub.execute_input": "2022-05-02T17:16:13.208986Z",
     "iopub.status.busy": "2022-05-02T17:16:13.208654Z",
     "iopub.status.idle": "2022-05-02T17:16:13.213839Z",
     "shell.execute_reply": "2022-05-02T17:16:13.212552Z",
     "shell.execute_reply.started": "2022-05-02T17:16:13.208950Z"
    }
   },
   "outputs": [],
   "source": []
  },
  {
   "cell_type": "code",
   "execution_count": null,
   "metadata": {
    "execution": {
     "iopub.execute_input": "2022-05-02T17:19:59.080302Z",
     "iopub.status.busy": "2022-05-02T17:19:59.080002Z",
     "iopub.status.idle": "2022-05-02T17:19:59.273070Z",
     "shell.execute_reply": "2022-05-02T17:19:59.272230Z",
     "shell.execute_reply.started": "2022-05-02T17:19:59.080269Z"
    }
   },
   "outputs": [],
   "source": [
    "import plotly.express as px\n",
    "y_train_trf = y_train.astype(str)\n",
    "fig = px.scatter(x=X_train_trf[:,0],\n",
    "                 y=X_train_trf[:,1],\n",
    "                 \n",
    "                 color=y_train_trf,\n",
    "                 color_discrete_sequence=px.colors.qualitative.G10                 \n",
    "                 \n",
    "                )\n",
    "fig.show()"
   ]
  },
  {
   "cell_type": "code",
   "execution_count": null,
   "metadata": {
    "execution": {
     "iopub.execute_input": "2022-05-02T18:34:07.522830Z",
     "iopub.status.busy": "2022-05-02T18:34:07.522532Z",
     "iopub.status.idle": "2022-05-02T18:34:10.492308Z",
     "shell.execute_reply": "2022-05-02T18:34:10.491167Z",
     "shell.execute_reply.started": "2022-05-02T18:34:07.522802Z"
    }
   },
   "outputs": [],
   "source": [
    "pca = PCA(n_components=3)\n",
    "X_train_trf = pca.fit_transform(X_train)\n",
    "X_test_trf = pca.transform(X_test)\n",
    "X_train_trf"
   ]
  },
  {
   "cell_type": "code",
   "execution_count": null,
   "metadata": {
    "execution": {
     "iopub.execute_input": "2022-05-02T17:31:09.830510Z",
     "iopub.status.busy": "2022-05-02T17:31:09.829880Z",
     "iopub.status.idle": "2022-05-02T17:31:10.154337Z",
     "shell.execute_reply": "2022-05-02T17:31:10.153246Z",
     "shell.execute_reply.started": "2022-05-02T17:31:09.830460Z"
    }
   },
   "outputs": [],
   "source": [
    "from plotly.offline import init_notebook_mode, iplot\n",
    "init_notebook_mode(connected=True)\n",
    "y_train_trf = y_train.astype(str)\n",
    "fig = px.scatter_3d(x=X_train_trf[:,0],\n",
    "                 y=X_train_trf[:,1],\n",
    "                 z = X_train_trf[:,2],\n",
    "                 color=y_train_trf)\n",
    "\n",
    "fig.update_layout(\n",
    "    margin=dict(l=20,r=20,t=20,b=20)\n",
    ") \n",
    "                \n",
    "\n",
    "\n",
    "\n",
    "fig.show()"
   ]
  },
  {
   "cell_type": "code",
   "execution_count": null,
   "metadata": {
    "execution": {
     "iopub.execute_input": "2022-05-02T18:22:45.388801Z",
     "iopub.status.busy": "2022-05-02T18:22:45.388177Z",
     "iopub.status.idle": "2022-05-02T18:22:45.394240Z",
     "shell.execute_reply": "2022-05-02T18:22:45.393480Z",
     "shell.execute_reply.started": "2022-05-02T18:22:45.388766Z"
    }
   },
   "outputs": [],
   "source": [
    "# Eigen Values\n",
    "pca.explained_variance_"
   ]
  },
  {
   "cell_type": "code",
   "execution_count": null,
   "metadata": {
    "execution": {
     "iopub.execute_input": "2022-05-02T18:23:02.429430Z",
     "iopub.status.busy": "2022-05-02T18:23:02.428861Z",
     "iopub.status.idle": "2022-05-02T18:23:02.436221Z",
     "shell.execute_reply": "2022-05-02T18:23:02.435311Z",
     "shell.execute_reply.started": "2022-05-02T18:23:02.429393Z"
    }
   },
   "outputs": [],
   "source": [
    "# Eigen Vector\n",
    "pca.components_"
   ]
  },
  {
   "cell_type": "code",
   "execution_count": null,
   "metadata": {
    "execution": {
     "iopub.execute_input": "2022-05-02T18:23:38.869229Z",
     "iopub.status.busy": "2022-05-02T18:23:38.868911Z",
     "iopub.status.idle": "2022-05-02T18:23:38.876523Z",
     "shell.execute_reply": "2022-05-02T18:23:38.875139Z",
     "shell.execute_reply.started": "2022-05-02T18:23:38.869195Z"
    }
   },
   "outputs": [],
   "source": [
    "pca.explained_variance_ratio_"
   ]
  },
  {
   "cell_type": "code",
   "execution_count": null,
   "metadata": {
    "execution": {
     "iopub.execute_input": "2022-05-02T18:24:22.819911Z",
     "iopub.status.busy": "2022-05-02T18:24:22.819539Z",
     "iopub.status.idle": "2022-05-02T18:24:27.475198Z",
     "shell.execute_reply": "2022-05-02T18:24:27.474097Z",
     "shell.execute_reply.started": "2022-05-02T18:24:22.819875Z"
    }
   },
   "outputs": [],
   "source": [
    "pca = PCA(n_components=None)\n",
    "X_train_trf = pca.fit_transform(X_train)\n",
    "X_test_trf = pca.transform(X_test)\n"
   ]
  },
  {
   "cell_type": "code",
   "execution_count": null,
   "metadata": {
    "execution": {
     "iopub.execute_input": "2022-05-02T18:24:45.229094Z",
     "iopub.status.busy": "2022-05-02T18:24:45.228752Z",
     "iopub.status.idle": "2022-05-02T18:24:45.235385Z",
     "shell.execute_reply": "2022-05-02T18:24:45.234348Z",
     "shell.execute_reply.started": "2022-05-02T18:24:45.229057Z"
    }
   },
   "outputs": [],
   "source": [
    "pca.explained_variance_.shape"
   ]
  },
  {
   "cell_type": "code",
   "execution_count": null,
   "metadata": {
    "execution": {
     "iopub.execute_input": "2022-05-02T18:25:00.190332Z",
     "iopub.status.busy": "2022-05-02T18:25:00.190021Z",
     "iopub.status.idle": "2022-05-02T18:25:00.196807Z",
     "shell.execute_reply": "2022-05-02T18:25:00.196115Z",
     "shell.execute_reply.started": "2022-05-02T18:25:00.190302Z"
    }
   },
   "outputs": [],
   "source": [
    "pca.components_.shape"
   ]
  },
  {
   "cell_type": "code",
   "execution_count": null,
   "metadata": {
    "execution": {
     "iopub.execute_input": "2022-05-02T18:25:14.497881Z",
     "iopub.status.busy": "2022-05-02T18:25:14.497623Z",
     "iopub.status.idle": "2022-05-02T18:25:14.514066Z",
     "shell.execute_reply": "2022-05-02T18:25:14.512654Z",
     "shell.execute_reply.started": "2022-05-02T18:25:14.497853Z"
    }
   },
   "outputs": [],
   "source": [
    "pca.explained_variance_ratio_"
   ]
  },
  {
   "cell_type": "code",
   "execution_count": null,
   "metadata": {
    "execution": {
     "iopub.execute_input": "2022-05-02T18:27:09.410907Z",
     "iopub.status.busy": "2022-05-02T18:27:09.409729Z",
     "iopub.status.idle": "2022-05-02T18:27:09.423945Z",
     "shell.execute_reply": "2022-05-02T18:27:09.423318Z",
     "shell.execute_reply.started": "2022-05-02T18:27:09.410769Z"
    }
   },
   "outputs": [],
   "source": [
    "np.cumsum(pca.explained_variance_ratio_)"
   ]
  },
  {
   "cell_type": "code",
   "execution_count": 38,
   "metadata": {
    "execution": {
     "iopub.execute_input": "2022-05-02T18:32:39.232306Z",
     "iopub.status.busy": "2022-05-02T18:32:39.231872Z",
     "iopub.status.idle": "2022-05-02T18:32:39.473335Z",
     "shell.execute_reply": "2022-05-02T18:32:39.472540Z",
     "shell.execute_reply.started": "2022-05-02T18:32:39.232268Z"
    }
   },
   "outputs": [],
   "source": [
    "plt.plot(np.cumsum(pca.explained_variance_ratio_))"
   ]
  },
  {
   "cell_type": "code",
   "execution_count": 37,
   "metadata": {
    "execution": {
     "iopub.execute_input": "2022-05-02T18:32:36.040798Z",
     "iopub.status.busy": "2022-05-02T18:32:36.040442Z",
     "iopub.status.idle": "2022-05-02T18:32:36.045251Z",
     "shell.execute_reply": "2022-05-02T18:32:36.044024Z",
     "shell.execute_reply.started": "2022-05-02T18:32:36.040764Z"
    }
   },
   "outputs": [],
   "source": [
    "import matplotlib.pyplot as plt"
   ]
  },
  {
   "cell_type": "code",
   "execution_count": null,
   "metadata": {},
   "outputs": [],
   "source": []
  }
 ],
 "metadata": {
  "kernelspec": {
   "display_name": "Python 3",
   "language": "python",
   "name": "python3"
  },
  "language_info": {
   "codemirror_mode": {
    "name": "ipython",
    "version": 3
   },
   "file_extension": ".py",
   "mimetype": "text/x-python",
   "name": "python",
   "nbconvert_exporter": "python",
   "pygments_lexer": "ipython3",
   "version": "3.8.5"
  }
 },
 "nbformat": 4,
 "nbformat_minor": 4
}
