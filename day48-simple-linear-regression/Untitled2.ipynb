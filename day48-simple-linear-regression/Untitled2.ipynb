{
 "cells": [
  {
   "cell_type": "code",
   "execution_count": 186,
   "metadata": {},
   "outputs": [],
   "source": [
    "class MyLr:\n",
    "    \n",
    "    def __init__(self):\n",
    "        self.m = None\n",
    "        self.b = None\n",
    "    \n",
    "    \n",
    "    def fit(self,X_train,y_train):\n",
    "        self.m = 0\n",
    "        self.b = 0\n",
    "        \n",
    "        for i in range(X_train.shape[0]):\n",
    "            num = num+(X_train[i]-X_train.mean()-  (y_train[0]-y_train.mean()))\n",
    "            duv = duv+((X_train[i]-X_train.mean())*(X_train[i]-X_train.mean()))\n",
    "            \n",
    "        self.m = num/duv\n",
    "        self.b = y_train[i].mean()-(self.m*X_train[i].mean())\n",
    "        \n",
    "        print(self.m)\n",
    "        print(self.b)\n",
    "         \n",
    "            \n",
    "    def predict(self,X_test):\n",
    "                \n",
    "        print(X_test)\n",
    "        \n",
    "        return self.m * X_test + self.b"
   ]
  },
  {
   "cell_type": "code",
   "execution_count": null,
   "metadata": {},
   "outputs": [],
   "source": []
  },
  {
   "cell_type": "code",
   "execution_count": null,
   "metadata": {},
   "outputs": [],
   "source": []
  }
 ],
 "metadata": {
  "kernelspec": {
   "display_name": "Python 3",
   "language": "python",
   "name": "python3"
  },
  "language_info": {
   "codemirror_mode": {
    "name": "ipython",
    "version": 3
   },
   "file_extension": ".py",
   "mimetype": "text/x-python",
   "name": "python",
   "nbconvert_exporter": "python",
   "pygments_lexer": "ipython3",
   "version": "3.8.5"
  }
 },
 "nbformat": 4,
 "nbformat_minor": 4
}
