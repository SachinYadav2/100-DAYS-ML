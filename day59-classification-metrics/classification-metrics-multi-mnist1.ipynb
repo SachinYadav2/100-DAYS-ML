{
 "cells": [
  {
   "cell_type": "code",
   "execution_count": 1,
   "metadata": {
    "_cell_guid": "b1076dfc-b9ad-4769-8c92-a6c4dae69d19",
    "_uuid": "8f2839f25d086af736a60e9eeb907d3b93b6e0e5",
    "execution": {
     "iopub.execute_input": "2021-06-24T09:01:13.820019Z",
     "iopub.status.busy": "2021-06-24T09:01:13.819524Z",
     "iopub.status.idle": "2021-06-24T09:01:13.831691Z",
     "shell.execute_reply": "2021-06-24T09:01:13.830838Z",
     "shell.execute_reply.started": "2021-06-24T09:01:13.819970Z"
    }
   },
   "outputs": [],
   "source": [
    "# This Python 3 environment comes with many helpful analytics libraries installed\n",
    "# It is defined by the kaggle/python Docker image: https://github.com/kaggle/docker-python\n",
    "# For example, here's several helpful packages to load\n",
    "\n",
    "import numpy as np # linear algebra\n",
    "import pandas as pd # data processing, CSV file I/O (e.g. pd.read_csv)\n",
    "\n",
    "# Input data files are available in the read-only \"../input/\" directory\n",
    "# For example, running this (by clicking run or pressing Shift+Enter) will list all files under the input directory\n",
    "\n",
    "import os\n",
    "for dirname, _, filenames in os.walk('/kaggle/input'):\n",
    "    for filename in filenames:\n",
    "        print(os.path.join(dirname, filename))\n",
    "\n",
    "# You can write up to 20GB to the current directory (/kaggle/working/) that gets preserved as output when you create a version using \"Save & Run All\" \n",
    "# You can also write temporary files to /kaggle/temp/, but they won't be saved outside of the current session"
   ]
  },
  {
   "cell_type": "code",
   "execution_count": 7,
   "metadata": {
    "execution": {
     "iopub.execute_input": "2021-06-24T09:01:13.833700Z",
     "iopub.status.busy": "2021-06-24T09:01:13.833427Z",
     "iopub.status.idle": "2021-06-24T09:01:16.797750Z",
     "shell.execute_reply": "2021-06-24T09:01:16.796930Z",
     "shell.execute_reply.started": "2021-06-24T09:01:13.833672Z"
    }
   },
   "outputs": [],
   "source": [
    "df = pd.read_csv('MNIST.csv')\n",
    "# df = pd.read_csv('https://www.kaggle.com/competitions/digit-recognizer/data?select=train.csv')"
   ]
  },
  {
   "cell_type": "code",
   "execution_count": 8,
   "metadata": {
    "execution": {
     "iopub.execute_input": "2021-06-24T09:01:16.799683Z",
     "iopub.status.busy": "2021-06-24T09:01:16.799427Z",
     "iopub.status.idle": "2021-06-24T09:01:16.818848Z",
     "shell.execute_reply": "2021-06-24T09:01:16.817918Z",
     "shell.execute_reply.started": "2021-06-24T09:01:16.799658Z"
    }
   },
   "outputs": [
    {
     "data": {
      "text/html": [
       "<div>\n",
       "<style scoped>\n",
       "    .dataframe tbody tr th:only-of-type {\n",
       "        vertical-align: middle;\n",
       "    }\n",
       "\n",
       "    .dataframe tbody tr th {\n",
       "        vertical-align: top;\n",
       "    }\n",
       "\n",
       "    .dataframe thead th {\n",
       "        text-align: right;\n",
       "    }\n",
       "</style>\n",
       "<table border=\"1\" class=\"dataframe\">\n",
       "  <thead>\n",
       "    <tr style=\"text-align: right;\">\n",
       "      <th></th>\n",
       "      <th>label</th>\n",
       "      <th>pixel0</th>\n",
       "      <th>pixel1</th>\n",
       "      <th>pixel2</th>\n",
       "      <th>pixel3</th>\n",
       "      <th>pixel4</th>\n",
       "      <th>pixel5</th>\n",
       "      <th>pixel6</th>\n",
       "      <th>pixel7</th>\n",
       "      <th>pixel8</th>\n",
       "      <th>...</th>\n",
       "      <th>pixel774</th>\n",
       "      <th>pixel775</th>\n",
       "      <th>pixel776</th>\n",
       "      <th>pixel777</th>\n",
       "      <th>pixel778</th>\n",
       "      <th>pixel779</th>\n",
       "      <th>pixel780</th>\n",
       "      <th>pixel781</th>\n",
       "      <th>pixel782</th>\n",
       "      <th>pixel783</th>\n",
       "    </tr>\n",
       "  </thead>\n",
       "  <tbody>\n",
       "    <tr>\n",
       "      <th>0</th>\n",
       "      <td>1</td>\n",
       "      <td>0</td>\n",
       "      <td>0</td>\n",
       "      <td>0</td>\n",
       "      <td>0</td>\n",
       "      <td>0</td>\n",
       "      <td>0</td>\n",
       "      <td>0</td>\n",
       "      <td>0</td>\n",
       "      <td>0</td>\n",
       "      <td>...</td>\n",
       "      <td>0</td>\n",
       "      <td>0</td>\n",
       "      <td>0</td>\n",
       "      <td>0</td>\n",
       "      <td>0</td>\n",
       "      <td>0</td>\n",
       "      <td>0</td>\n",
       "      <td>0</td>\n",
       "      <td>0</td>\n",
       "      <td>0</td>\n",
       "    </tr>\n",
       "    <tr>\n",
       "      <th>1</th>\n",
       "      <td>0</td>\n",
       "      <td>0</td>\n",
       "      <td>0</td>\n",
       "      <td>0</td>\n",
       "      <td>0</td>\n",
       "      <td>0</td>\n",
       "      <td>0</td>\n",
       "      <td>0</td>\n",
       "      <td>0</td>\n",
       "      <td>0</td>\n",
       "      <td>...</td>\n",
       "      <td>0</td>\n",
       "      <td>0</td>\n",
       "      <td>0</td>\n",
       "      <td>0</td>\n",
       "      <td>0</td>\n",
       "      <td>0</td>\n",
       "      <td>0</td>\n",
       "      <td>0</td>\n",
       "      <td>0</td>\n",
       "      <td>0</td>\n",
       "    </tr>\n",
       "    <tr>\n",
       "      <th>2</th>\n",
       "      <td>1</td>\n",
       "      <td>0</td>\n",
       "      <td>0</td>\n",
       "      <td>0</td>\n",
       "      <td>0</td>\n",
       "      <td>0</td>\n",
       "      <td>0</td>\n",
       "      <td>0</td>\n",
       "      <td>0</td>\n",
       "      <td>0</td>\n",
       "      <td>...</td>\n",
       "      <td>0</td>\n",
       "      <td>0</td>\n",
       "      <td>0</td>\n",
       "      <td>0</td>\n",
       "      <td>0</td>\n",
       "      <td>0</td>\n",
       "      <td>0</td>\n",
       "      <td>0</td>\n",
       "      <td>0</td>\n",
       "      <td>0</td>\n",
       "    </tr>\n",
       "    <tr>\n",
       "      <th>3</th>\n",
       "      <td>4</td>\n",
       "      <td>0</td>\n",
       "      <td>0</td>\n",
       "      <td>0</td>\n",
       "      <td>0</td>\n",
       "      <td>0</td>\n",
       "      <td>0</td>\n",
       "      <td>0</td>\n",
       "      <td>0</td>\n",
       "      <td>0</td>\n",
       "      <td>...</td>\n",
       "      <td>0</td>\n",
       "      <td>0</td>\n",
       "      <td>0</td>\n",
       "      <td>0</td>\n",
       "      <td>0</td>\n",
       "      <td>0</td>\n",
       "      <td>0</td>\n",
       "      <td>0</td>\n",
       "      <td>0</td>\n",
       "      <td>0</td>\n",
       "    </tr>\n",
       "    <tr>\n",
       "      <th>4</th>\n",
       "      <td>0</td>\n",
       "      <td>0</td>\n",
       "      <td>0</td>\n",
       "      <td>0</td>\n",
       "      <td>0</td>\n",
       "      <td>0</td>\n",
       "      <td>0</td>\n",
       "      <td>0</td>\n",
       "      <td>0</td>\n",
       "      <td>0</td>\n",
       "      <td>...</td>\n",
       "      <td>0</td>\n",
       "      <td>0</td>\n",
       "      <td>0</td>\n",
       "      <td>0</td>\n",
       "      <td>0</td>\n",
       "      <td>0</td>\n",
       "      <td>0</td>\n",
       "      <td>0</td>\n",
       "      <td>0</td>\n",
       "      <td>0</td>\n",
       "    </tr>\n",
       "  </tbody>\n",
       "</table>\n",
       "<p>5 rows × 785 columns</p>\n",
       "</div>"
      ],
      "text/plain": [
       "   label  pixel0  pixel1  pixel2  pixel3  pixel4  pixel5  pixel6  pixel7  \\\n",
       "0      1       0       0       0       0       0       0       0       0   \n",
       "1      0       0       0       0       0       0       0       0       0   \n",
       "2      1       0       0       0       0       0       0       0       0   \n",
       "3      4       0       0       0       0       0       0       0       0   \n",
       "4      0       0       0       0       0       0       0       0       0   \n",
       "\n",
       "   pixel8  ...  pixel774  pixel775  pixel776  pixel777  pixel778  pixel779  \\\n",
       "0       0  ...         0         0         0         0         0         0   \n",
       "1       0  ...         0         0         0         0         0         0   \n",
       "2       0  ...         0         0         0         0         0         0   \n",
       "3       0  ...         0         0         0         0         0         0   \n",
       "4       0  ...         0         0         0         0         0         0   \n",
       "\n",
       "   pixel780  pixel781  pixel782  pixel783  \n",
       "0         0         0         0         0  \n",
       "1         0         0         0         0  \n",
       "2         0         0         0         0  \n",
       "3         0         0         0         0  \n",
       "4         0         0         0         0  \n",
       "\n",
       "[5 rows x 785 columns]"
      ]
     },
     "execution_count": 8,
     "metadata": {},
     "output_type": "execute_result"
    }
   ],
   "source": [
    "df.head()"
   ]
  },
  {
   "cell_type": "code",
   "execution_count": 9,
   "metadata": {
    "execution": {
     "iopub.execute_input": "2021-06-24T09:01:16.820321Z",
     "iopub.status.busy": "2021-06-24T09:01:16.820080Z",
     "iopub.status.idle": "2021-06-24T09:01:17.108043Z",
     "shell.execute_reply": "2021-06-24T09:01:17.107260Z",
     "shell.execute_reply.started": "2021-06-24T09:01:16.820296Z"
    }
   },
   "outputs": [],
   "source": [
    "from sklearn.model_selection import train_test_split\n",
    "X_train,X_test,y_train,y_test = train_test_split(df.iloc[:,1:],df.iloc[:,0],test_size=0.2,random_state=2)"
   ]
  },
  {
   "cell_type": "code",
   "execution_count": 10,
   "metadata": {
    "execution": {
     "iopub.execute_input": "2021-06-24T09:01:17.109486Z",
     "iopub.status.busy": "2021-06-24T09:01:17.109214Z",
     "iopub.status.idle": "2021-06-24T09:01:17.114934Z",
     "shell.execute_reply": "2021-06-24T09:01:17.113971Z",
     "shell.execute_reply.started": "2021-06-24T09:01:17.109459Z"
    }
   },
   "outputs": [],
   "source": [
    "from sklearn.linear_model import LogisticRegression\n",
    "from sklearn.tree import DecisionTreeClassifier"
   ]
  },
  {
   "cell_type": "code",
   "execution_count": 11,
   "metadata": {
    "execution": {
     "iopub.execute_input": "2021-06-24T09:01:17.116346Z",
     "iopub.status.busy": "2021-06-24T09:01:17.116057Z",
     "iopub.status.idle": "2021-06-24T09:01:17.124475Z",
     "shell.execute_reply": "2021-06-24T09:01:17.123490Z",
     "shell.execute_reply.started": "2021-06-24T09:01:17.116320Z"
    }
   },
   "outputs": [],
   "source": [
    "clf1 = LogisticRegression()\n",
    "clf2 = DecisionTreeClassifier()"
   ]
  },
  {
   "cell_type": "code",
   "execution_count": null,
   "metadata": {
    "execution": {
     "iopub.execute_input": "2021-06-24T09:01:17.125835Z",
     "iopub.status.busy": "2021-06-24T09:01:17.125600Z",
     "iopub.status.idle": "2021-06-24T09:01:43.247598Z",
     "shell.execute_reply": "2021-06-24T09:01:43.246675Z",
     "shell.execute_reply.started": "2021-06-24T09:01:17.125811Z"
    }
   },
   "outputs": [],
   "source": [
    "clf1.fit(X_train,y_train)\n",
    "clf2.fit(X_train,y_train)"
   ]
  },
  {
   "cell_type": "code",
   "execution_count": null,
   "metadata": {
    "execution": {
     "iopub.execute_input": "2021-06-24T09:01:43.248889Z",
     "iopub.status.busy": "2021-06-24T09:01:43.248633Z",
     "iopub.status.idle": "2021-06-24T09:01:43.333825Z",
     "shell.execute_reply": "2021-06-24T09:01:43.332651Z",
     "shell.execute_reply.started": "2021-06-24T09:01:43.248850Z"
    }
   },
   "outputs": [],
   "source": [
    "y_pred1 = clf1.predict(X_test)\n",
    "y_pred2 = clf2.predict(X_test)"
   ]
  },
  {
   "cell_type": "code",
   "execution_count": null,
   "metadata": {
    "execution": {
     "iopub.execute_input": "2021-06-24T09:01:43.342179Z",
     "iopub.status.busy": "2021-06-24T09:01:43.341729Z",
     "iopub.status.idle": "2021-06-24T09:01:43.362715Z",
     "shell.execute_reply": "2021-06-24T09:01:43.359034Z",
     "shell.execute_reply.started": "2021-06-24T09:01:43.342137Z"
    }
   },
   "outputs": [],
   "source": [
    "from sklearn.metrics import accuracy_score,confusion_matrix\n",
    "print(\"Accuracy of Logistic Regression\",accuracy_score(y_test,y_pred1))\n",
    "print(\"Accuracy of Decision Trees\",accuracy_score(y_test,y_pred2))"
   ]
  },
  {
   "cell_type": "code",
   "execution_count": null,
   "metadata": {
    "execution": {
     "iopub.execute_input": "2021-06-24T09:01:43.364871Z",
     "iopub.status.busy": "2021-06-24T09:01:43.364477Z",
     "iopub.status.idle": "2021-06-24T09:01:43.404727Z",
     "shell.execute_reply": "2021-06-24T09:01:43.403797Z",
     "shell.execute_reply.started": "2021-06-24T09:01:43.364819Z"
    }
   },
   "outputs": [],
   "source": [
    "print(\"Logistic Regression Confusion Matrix\\n\")\n",
    "pd.DataFrame(confusion_matrix(y_test,y_pred1),columns=list(range(0,10)))"
   ]
  },
  {
   "cell_type": "code",
   "execution_count": null,
   "metadata": {
    "execution": {
     "iopub.execute_input": "2021-06-24T09:01:43.407019Z",
     "iopub.status.busy": "2021-06-24T09:01:43.406338Z",
     "iopub.status.idle": "2021-06-24T09:01:43.431782Z",
     "shell.execute_reply": "2021-06-24T09:01:43.430783Z",
     "shell.execute_reply.started": "2021-06-24T09:01:43.406976Z"
    }
   },
   "outputs": [],
   "source": [
    "print(\"Decision Tree Confusion Matrix\\n\")\n",
    "pd.DataFrame(confusion_matrix(y_test,y_pred2),columns=list(range(0,10)))"
   ]
  },
  {
   "cell_type": "code",
   "execution_count": null,
   "metadata": {
    "execution": {
     "iopub.execute_input": "2021-06-24T09:02:13.409108Z",
     "iopub.status.busy": "2021-06-24T09:02:13.408508Z",
     "iopub.status.idle": "2021-06-24T09:02:13.413025Z",
     "shell.execute_reply": "2021-06-24T09:02:13.412147Z",
     "shell.execute_reply.started": "2021-06-24T09:02:13.409072Z"
    }
   },
   "outputs": [],
   "source": [
    "from sklearn.metrics import precision_score,recall_score,f1_score\n"
   ]
  },
  {
   "cell_type": "code",
   "execution_count": null,
   "metadata": {
    "execution": {
     "iopub.execute_input": "2021-06-24T09:03:40.216646Z",
     "iopub.status.busy": "2021-06-24T09:03:40.216323Z",
     "iopub.status.idle": "2021-06-24T09:03:40.228621Z",
     "shell.execute_reply": "2021-06-24T09:03:40.227694Z",
     "shell.execute_reply.started": "2021-06-24T09:03:40.216616Z"
    }
   },
   "outputs": [],
   "source": [
    "precision_score(y_test,y_pred1,average='weighted')"
   ]
  },
  {
   "cell_type": "code",
   "execution_count": null,
   "metadata": {
    "execution": {
     "iopub.execute_input": "2021-06-24T09:03:46.955781Z",
     "iopub.status.busy": "2021-06-24T09:03:46.955466Z",
     "iopub.status.idle": "2021-06-24T09:03:46.968219Z",
     "shell.execute_reply": "2021-06-24T09:03:46.967188Z",
     "shell.execute_reply.started": "2021-06-24T09:03:46.955753Z"
    }
   },
   "outputs": [],
   "source": [
    "recall_score(y_test,y_pred1,average='weighted')"
   ]
  },
  {
   "cell_type": "code",
   "execution_count": null,
   "metadata": {
    "execution": {
     "iopub.execute_input": "2021-06-24T09:03:52.111399Z",
     "iopub.status.busy": "2021-06-24T09:03:52.111075Z",
     "iopub.status.idle": "2021-06-24T09:03:52.125452Z",
     "shell.execute_reply": "2021-06-24T09:03:52.124482Z",
     "shell.execute_reply.started": "2021-06-24T09:03:52.111369Z"
    }
   },
   "outputs": [],
   "source": [
    "f1_score(y_test,y_pred1,average='weighted')"
   ]
  },
  {
   "cell_type": "code",
   "execution_count": null,
   "metadata": {
    "execution": {
     "iopub.execute_input": "2021-06-24T09:04:21.733106Z",
     "iopub.status.busy": "2021-06-24T09:04:21.732728Z",
     "iopub.status.idle": "2021-06-24T09:04:21.763285Z",
     "shell.execute_reply": "2021-06-24T09:04:21.762521Z",
     "shell.execute_reply.started": "2021-06-24T09:04:21.733073Z"
    }
   },
   "outputs": [],
   "source": [
    "from sklearn.metrics import classification_report\n",
    "print(classification_report(y_test,y_pred1))"
   ]
  },
  {
   "cell_type": "code",
   "execution_count": null,
   "metadata": {},
   "outputs": [],
   "source": []
  }
 ],
 "metadata": {
  "kernelspec": {
   "display_name": "Python 3",
   "language": "python",
   "name": "python3"
  },
  "language_info": {
   "codemirror_mode": {
    "name": "ipython",
    "version": 3
   },
   "file_extension": ".py",
   "mimetype": "text/x-python",
   "name": "python",
   "nbconvert_exporter": "python",
   "pygments_lexer": "ipython3",
   "version": "3.8.5"
  }
 },
 "nbformat": 4,
 "nbformat_minor": 4
}
