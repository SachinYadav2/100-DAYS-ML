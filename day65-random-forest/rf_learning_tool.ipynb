{
 "cells": [
  {
   "cell_type": "code",
   "execution_count": 12,
   "metadata": {
    "id": "Pt3njPwTYgw3"
   },
   "outputs": [],
   "source": [
    "import numpy as np\n",
    "import pandas as pd\n",
    "from sklearn.datasets import make_classification"
   ]
  },
  {
   "cell_type": "code",
   "execution_count": 13,
   "metadata": {
    "id": "7BsWDgjaYncT"
   },
   "outputs": [],
   "source": [
    "X,y = make_classification(n_features=5, n_redundant=0, n_informative=5,n_clusters_per_class=1)"
   ]
  },
  {
   "cell_type": "code",
   "execution_count": 14,
   "metadata": {
    "colab": {
     "base_uri": "https://localhost:8080/",
     "height": 223
    },
    "id": "OksCU9vaY5-L",
    "outputId": "803427a6-cedd-49a3-a5be-d92df2cab2a0"
   },
   "outputs": [
    {
     "name": "stdout",
     "output_type": "stream",
     "text": [
      "(100, 6)\n"
     ]
    },
    {
     "data": {
      "text/html": [
       "<div>\n",
       "<style scoped>\n",
       "    .dataframe tbody tr th:only-of-type {\n",
       "        vertical-align: middle;\n",
       "    }\n",
       "\n",
       "    .dataframe tbody tr th {\n",
       "        vertical-align: top;\n",
       "    }\n",
       "\n",
       "    .dataframe thead th {\n",
       "        text-align: right;\n",
       "    }\n",
       "</style>\n",
       "<table border=\"1\" class=\"dataframe\">\n",
       "  <thead>\n",
       "    <tr style=\"text-align: right;\">\n",
       "      <th></th>\n",
       "      <th>col1</th>\n",
       "      <th>col2</th>\n",
       "      <th>col3</th>\n",
       "      <th>col4</th>\n",
       "      <th>col5</th>\n",
       "      <th>target</th>\n",
       "    </tr>\n",
       "  </thead>\n",
       "  <tbody>\n",
       "    <tr>\n",
       "      <th>0</th>\n",
       "      <td>-0.803102</td>\n",
       "      <td>-0.158505</td>\n",
       "      <td>0.797448</td>\n",
       "      <td>1.510628</td>\n",
       "      <td>2.129951</td>\n",
       "      <td>1</td>\n",
       "    </tr>\n",
       "    <tr>\n",
       "      <th>1</th>\n",
       "      <td>1.509928</td>\n",
       "      <td>1.475186</td>\n",
       "      <td>-3.388981</td>\n",
       "      <td>1.338694</td>\n",
       "      <td>2.528564</td>\n",
       "      <td>0</td>\n",
       "    </tr>\n",
       "    <tr>\n",
       "      <th>2</th>\n",
       "      <td>2.046659</td>\n",
       "      <td>-0.971493</td>\n",
       "      <td>2.363523</td>\n",
       "      <td>1.209100</td>\n",
       "      <td>-0.981416</td>\n",
       "      <td>1</td>\n",
       "    </tr>\n",
       "    <tr>\n",
       "      <th>3</th>\n",
       "      <td>2.824993</td>\n",
       "      <td>-2.891271</td>\n",
       "      <td>0.379325</td>\n",
       "      <td>0.425193</td>\n",
       "      <td>-0.014415</td>\n",
       "      <td>1</td>\n",
       "    </tr>\n",
       "    <tr>\n",
       "      <th>4</th>\n",
       "      <td>1.370822</td>\n",
       "      <td>1.281594</td>\n",
       "      <td>2.609021</td>\n",
       "      <td>1.136674</td>\n",
       "      <td>1.390930</td>\n",
       "      <td>1</td>\n",
       "    </tr>\n",
       "  </tbody>\n",
       "</table>\n",
       "</div>"
      ],
      "text/plain": [
       "       col1      col2      col3      col4      col5  target\n",
       "0 -0.803102 -0.158505  0.797448  1.510628  2.129951       1\n",
       "1  1.509928  1.475186 -3.388981  1.338694  2.528564       0\n",
       "2  2.046659 -0.971493  2.363523  1.209100 -0.981416       1\n",
       "3  2.824993 -2.891271  0.379325  0.425193 -0.014415       1\n",
       "4  1.370822  1.281594  2.609021  1.136674  1.390930       1"
      ]
     },
     "execution_count": 14,
     "metadata": {},
     "output_type": "execute_result"
    }
   ],
   "source": [
    "df = pd.DataFrame(X,columns=['col1','col2','col3','col4','col5'])\n",
    "df['target'] = y\n",
    "print(df.shape)\n",
    "df.head()"
   ]
  },
  {
   "cell_type": "code",
   "execution_count": 24,
   "metadata": {
    "id": "bmPSHQpAaZZw"
   },
   "outputs": [],
   "source": [
    "# function for row sampling\n",
    "\n",
    "def sample_rows(df,percent):\n",
    "    return df.sample(int(percent*df.shape[0]),replace=True)"
   ]
  },
  {
   "cell_type": "code",
   "execution_count": 72,
   "metadata": {
    "id": "f-ziftsvbJ6j"
   },
   "outputs": [],
   "source": [
    "# function for feature sampling\n",
    "def sample_features(df,percent):\n",
    "    cols = random.sample(df.columns.tolist()[:-1],int(percent*(df.shape[1]-1)))\n",
    "    # Target column ko leni ke liye ye changes kiye h\n",
    "    new_df = df[cols]\n",
    "    new_df['target'] = df['target']\n",
    "    return new_df\n",
    "#     return df[cols]"
   ]
  },
  {
   "cell_type": "code",
   "execution_count": 74,
   "metadata": {
    "id": "yoPV7Lkc50tL"
   },
   "outputs": [],
   "source": [
    "# function for combined sampling\n",
    "\n",
    "def combined_sampling(df,row_percent,col_percent):\n",
    "    new_df = sample_rows(df,row_percent)\n",
    "    return sample_features(new_df,col_percent)"
   ]
  },
  {
   "cell_type": "code",
   "execution_count": 75,
   "metadata": {
    "colab": {
     "base_uri": "https://localhost:8080/"
    },
    "id": "tAi9pPs49VsF",
    "outputId": "97589529-cfce-48d2-fb6d-03c3c6dfcf09"
   },
   "outputs": [],
   "source": [
    "df1 =sample_rows(df,0.3)"
   ]
  },
  {
   "cell_type": "code",
   "execution_count": 76,
   "metadata": {
    "colab": {
     "base_uri": "https://localhost:8080/"
    },
    "id": "Xaq3G-P19Vy6",
    "outputId": "8cd80f49-6579-4031-812e-f2199d1afb0b"
   },
   "outputs": [],
   "source": [
    "df2 =sample_rows(df,0.3)"
   ]
  },
  {
   "cell_type": "code",
   "execution_count": 77,
   "metadata": {
    "colab": {
     "base_uri": "https://localhost:8080/"
    },
    "id": "WgPzMsz-9V5z",
    "outputId": "129228a4-037e-4c73-e81a-47ae83ebd218"
   },
   "outputs": [],
   "source": [
    "df3 =sample_rows(df,0.3)"
   ]
  },
  {
   "cell_type": "code",
   "execution_count": 78,
   "metadata": {
    "colab": {
     "base_uri": "https://localhost:8080/"
    },
    "id": "6XMaiuf59WHb",
    "outputId": "7536fcf6-f0bb-4821-d5e5-592ff3efc8e9"
   },
   "outputs": [
    {
     "name": "stdout",
     "output_type": "stream",
     "text": [
      "Index(['col1', 'col2', 'col3', 'col4', 'col5', 'target'], dtype='object')\n",
      "Index(['col1', 'col2', 'col3', 'col4', 'col5', 'target'], dtype='object')\n",
      "Index(['col1', 'col2', 'col3', 'col4', 'col5', 'target'], dtype='object')\n"
     ]
    }
   ],
   "source": [
    "print(df1.columns)\n",
    "print(df2.columns)\n",
    "print(df3.columns)"
   ]
  },
  {
   "cell_type": "code",
   "execution_count": 79,
   "metadata": {
    "colab": {
     "base_uri": "https://localhost:8080/",
     "height": 1000
    },
    "id": "zIq1H_X99WNj",
    "outputId": "11810499-c52c-4f11-f9cd-15a5c77afb8b"
   },
   "outputs": [
    {
     "data": {
      "text/html": [
       "<div>\n",
       "<style scoped>\n",
       "    .dataframe tbody tr th:only-of-type {\n",
       "        vertical-align: middle;\n",
       "    }\n",
       "\n",
       "    .dataframe tbody tr th {\n",
       "        vertical-align: top;\n",
       "    }\n",
       "\n",
       "    .dataframe thead th {\n",
       "        text-align: right;\n",
       "    }\n",
       "</style>\n",
       "<table border=\"1\" class=\"dataframe\">\n",
       "  <thead>\n",
       "    <tr style=\"text-align: right;\">\n",
       "      <th></th>\n",
       "      <th>col1</th>\n",
       "      <th>col2</th>\n",
       "      <th>col3</th>\n",
       "      <th>col4</th>\n",
       "      <th>col5</th>\n",
       "      <th>target</th>\n",
       "    </tr>\n",
       "  </thead>\n",
       "  <tbody>\n",
       "    <tr>\n",
       "      <th>10</th>\n",
       "      <td>1.750688</td>\n",
       "      <td>-2.933560</td>\n",
       "      <td>0.201857</td>\n",
       "      <td>0.026178</td>\n",
       "      <td>-1.105157</td>\n",
       "      <td>1</td>\n",
       "    </tr>\n",
       "    <tr>\n",
       "      <th>19</th>\n",
       "      <td>-0.366842</td>\n",
       "      <td>-0.060232</td>\n",
       "      <td>0.430834</td>\n",
       "      <td>-2.638945</td>\n",
       "      <td>1.275731</td>\n",
       "      <td>0</td>\n",
       "    </tr>\n",
       "    <tr>\n",
       "      <th>91</th>\n",
       "      <td>1.219002</td>\n",
       "      <td>-0.359833</td>\n",
       "      <td>1.395422</td>\n",
       "      <td>0.250591</td>\n",
       "      <td>0.947921</td>\n",
       "      <td>1</td>\n",
       "    </tr>\n",
       "    <tr>\n",
       "      <th>30</th>\n",
       "      <td>0.926071</td>\n",
       "      <td>3.153036</td>\n",
       "      <td>-2.801278</td>\n",
       "      <td>0.791126</td>\n",
       "      <td>0.821401</td>\n",
       "      <td>0</td>\n",
       "    </tr>\n",
       "    <tr>\n",
       "      <th>84</th>\n",
       "      <td>-0.199772</td>\n",
       "      <td>-1.104749</td>\n",
       "      <td>1.057973</td>\n",
       "      <td>1.343040</td>\n",
       "      <td>-0.529280</td>\n",
       "      <td>1</td>\n",
       "    </tr>\n",
       "    <tr>\n",
       "      <th>53</th>\n",
       "      <td>1.942710</td>\n",
       "      <td>-1.342256</td>\n",
       "      <td>0.513022</td>\n",
       "      <td>-0.514728</td>\n",
       "      <td>1.894947</td>\n",
       "      <td>1</td>\n",
       "    </tr>\n",
       "    <tr>\n",
       "      <th>40</th>\n",
       "      <td>1.786333</td>\n",
       "      <td>-2.237371</td>\n",
       "      <td>0.327245</td>\n",
       "      <td>-0.927684</td>\n",
       "      <td>-0.592661</td>\n",
       "      <td>1</td>\n",
       "    </tr>\n",
       "    <tr>\n",
       "      <th>55</th>\n",
       "      <td>2.448138</td>\n",
       "      <td>0.407401</td>\n",
       "      <td>1.288691</td>\n",
       "      <td>-0.069260</td>\n",
       "      <td>3.203983</td>\n",
       "      <td>1</td>\n",
       "    </tr>\n",
       "    <tr>\n",
       "      <th>55</th>\n",
       "      <td>2.448138</td>\n",
       "      <td>0.407401</td>\n",
       "      <td>1.288691</td>\n",
       "      <td>-0.069260</td>\n",
       "      <td>3.203983</td>\n",
       "      <td>1</td>\n",
       "    </tr>\n",
       "    <tr>\n",
       "      <th>44</th>\n",
       "      <td>2.862564</td>\n",
       "      <td>-0.346197</td>\n",
       "      <td>1.214956</td>\n",
       "      <td>-3.397840</td>\n",
       "      <td>0.020261</td>\n",
       "      <td>0</td>\n",
       "    </tr>\n",
       "    <tr>\n",
       "      <th>77</th>\n",
       "      <td>0.943424</td>\n",
       "      <td>1.482330</td>\n",
       "      <td>-1.891054</td>\n",
       "      <td>-0.323286</td>\n",
       "      <td>1.299054</td>\n",
       "      <td>0</td>\n",
       "    </tr>\n",
       "    <tr>\n",
       "      <th>20</th>\n",
       "      <td>0.426370</td>\n",
       "      <td>1.366699</td>\n",
       "      <td>-0.772748</td>\n",
       "      <td>-2.099553</td>\n",
       "      <td>0.820704</td>\n",
       "      <td>0</td>\n",
       "    </tr>\n",
       "    <tr>\n",
       "      <th>58</th>\n",
       "      <td>1.848521</td>\n",
       "      <td>1.047837</td>\n",
       "      <td>-1.810096</td>\n",
       "      <td>-0.188125</td>\n",
       "      <td>1.305833</td>\n",
       "      <td>0</td>\n",
       "    </tr>\n",
       "    <tr>\n",
       "      <th>98</th>\n",
       "      <td>0.460705</td>\n",
       "      <td>0.319304</td>\n",
       "      <td>0.140988</td>\n",
       "      <td>-2.780940</td>\n",
       "      <td>1.508914</td>\n",
       "      <td>0</td>\n",
       "    </tr>\n",
       "    <tr>\n",
       "      <th>49</th>\n",
       "      <td>1.898399</td>\n",
       "      <td>0.613267</td>\n",
       "      <td>-1.431308</td>\n",
       "      <td>-0.535666</td>\n",
       "      <td>1.458770</td>\n",
       "      <td>0</td>\n",
       "    </tr>\n",
       "    <tr>\n",
       "      <th>21</th>\n",
       "      <td>1.023266</td>\n",
       "      <td>2.237202</td>\n",
       "      <td>-2.873226</td>\n",
       "      <td>0.194708</td>\n",
       "      <td>2.296078</td>\n",
       "      <td>0</td>\n",
       "    </tr>\n",
       "    <tr>\n",
       "      <th>42</th>\n",
       "      <td>1.039077</td>\n",
       "      <td>0.844111</td>\n",
       "      <td>-0.030862</td>\n",
       "      <td>-1.994067</td>\n",
       "      <td>0.087444</td>\n",
       "      <td>0</td>\n",
       "    </tr>\n",
       "    <tr>\n",
       "      <th>25</th>\n",
       "      <td>0.103599</td>\n",
       "      <td>1.000922</td>\n",
       "      <td>1.002247</td>\n",
       "      <td>0.713961</td>\n",
       "      <td>3.673162</td>\n",
       "      <td>1</td>\n",
       "    </tr>\n",
       "    <tr>\n",
       "      <th>90</th>\n",
       "      <td>2.931239</td>\n",
       "      <td>1.502133</td>\n",
       "      <td>-2.147887</td>\n",
       "      <td>-0.437498</td>\n",
       "      <td>1.593685</td>\n",
       "      <td>0</td>\n",
       "    </tr>\n",
       "    <tr>\n",
       "      <th>68</th>\n",
       "      <td>1.245122</td>\n",
       "      <td>2.214940</td>\n",
       "      <td>3.374853</td>\n",
       "      <td>2.282831</td>\n",
       "      <td>2.082489</td>\n",
       "      <td>1</td>\n",
       "    </tr>\n",
       "    <tr>\n",
       "      <th>28</th>\n",
       "      <td>1.579884</td>\n",
       "      <td>0.713481</td>\n",
       "      <td>-1.094080</td>\n",
       "      <td>-1.631334</td>\n",
       "      <td>1.575764</td>\n",
       "      <td>0</td>\n",
       "    </tr>\n",
       "    <tr>\n",
       "      <th>41</th>\n",
       "      <td>1.624606</td>\n",
       "      <td>2.122527</td>\n",
       "      <td>-2.169975</td>\n",
       "      <td>0.044151</td>\n",
       "      <td>1.313000</td>\n",
       "      <td>0</td>\n",
       "    </tr>\n",
       "    <tr>\n",
       "      <th>24</th>\n",
       "      <td>1.282414</td>\n",
       "      <td>-3.488159</td>\n",
       "      <td>-0.528245</td>\n",
       "      <td>2.809010</td>\n",
       "      <td>1.011427</td>\n",
       "      <td>1</td>\n",
       "    </tr>\n",
       "    <tr>\n",
       "      <th>17</th>\n",
       "      <td>0.287359</td>\n",
       "      <td>0.480130</td>\n",
       "      <td>2.720665</td>\n",
       "      <td>0.876292</td>\n",
       "      <td>-0.449912</td>\n",
       "      <td>1</td>\n",
       "    </tr>\n",
       "    <tr>\n",
       "      <th>1</th>\n",
       "      <td>1.509928</td>\n",
       "      <td>1.475186</td>\n",
       "      <td>-3.388981</td>\n",
       "      <td>1.338694</td>\n",
       "      <td>2.528564</td>\n",
       "      <td>0</td>\n",
       "    </tr>\n",
       "    <tr>\n",
       "      <th>28</th>\n",
       "      <td>1.579884</td>\n",
       "      <td>0.713481</td>\n",
       "      <td>-1.094080</td>\n",
       "      <td>-1.631334</td>\n",
       "      <td>1.575764</td>\n",
       "      <td>0</td>\n",
       "    </tr>\n",
       "    <tr>\n",
       "      <th>17</th>\n",
       "      <td>0.287359</td>\n",
       "      <td>0.480130</td>\n",
       "      <td>2.720665</td>\n",
       "      <td>0.876292</td>\n",
       "      <td>-0.449912</td>\n",
       "      <td>1</td>\n",
       "    </tr>\n",
       "    <tr>\n",
       "      <th>50</th>\n",
       "      <td>-0.023319</td>\n",
       "      <td>-0.059465</td>\n",
       "      <td>1.603164</td>\n",
       "      <td>1.026393</td>\n",
       "      <td>1.237438</td>\n",
       "      <td>1</td>\n",
       "    </tr>\n",
       "    <tr>\n",
       "      <th>44</th>\n",
       "      <td>2.862564</td>\n",
       "      <td>-0.346197</td>\n",
       "      <td>1.214956</td>\n",
       "      <td>-3.397840</td>\n",
       "      <td>0.020261</td>\n",
       "      <td>0</td>\n",
       "    </tr>\n",
       "    <tr>\n",
       "      <th>86</th>\n",
       "      <td>1.088361</td>\n",
       "      <td>0.149309</td>\n",
       "      <td>0.299907</td>\n",
       "      <td>-1.824742</td>\n",
       "      <td>0.226370</td>\n",
       "      <td>0</td>\n",
       "    </tr>\n",
       "  </tbody>\n",
       "</table>\n",
       "</div>"
      ],
      "text/plain": [
       "        col1      col2      col3      col4      col5  target\n",
       "10  1.750688 -2.933560  0.201857  0.026178 -1.105157       1\n",
       "19 -0.366842 -0.060232  0.430834 -2.638945  1.275731       0\n",
       "91  1.219002 -0.359833  1.395422  0.250591  0.947921       1\n",
       "30  0.926071  3.153036 -2.801278  0.791126  0.821401       0\n",
       "84 -0.199772 -1.104749  1.057973  1.343040 -0.529280       1\n",
       "53  1.942710 -1.342256  0.513022 -0.514728  1.894947       1\n",
       "40  1.786333 -2.237371  0.327245 -0.927684 -0.592661       1\n",
       "55  2.448138  0.407401  1.288691 -0.069260  3.203983       1\n",
       "55  2.448138  0.407401  1.288691 -0.069260  3.203983       1\n",
       "44  2.862564 -0.346197  1.214956 -3.397840  0.020261       0\n",
       "77  0.943424  1.482330 -1.891054 -0.323286  1.299054       0\n",
       "20  0.426370  1.366699 -0.772748 -2.099553  0.820704       0\n",
       "58  1.848521  1.047837 -1.810096 -0.188125  1.305833       0\n",
       "98  0.460705  0.319304  0.140988 -2.780940  1.508914       0\n",
       "49  1.898399  0.613267 -1.431308 -0.535666  1.458770       0\n",
       "21  1.023266  2.237202 -2.873226  0.194708  2.296078       0\n",
       "42  1.039077  0.844111 -0.030862 -1.994067  0.087444       0\n",
       "25  0.103599  1.000922  1.002247  0.713961  3.673162       1\n",
       "90  2.931239  1.502133 -2.147887 -0.437498  1.593685       0\n",
       "68  1.245122  2.214940  3.374853  2.282831  2.082489       1\n",
       "28  1.579884  0.713481 -1.094080 -1.631334  1.575764       0\n",
       "41  1.624606  2.122527 -2.169975  0.044151  1.313000       0\n",
       "24  1.282414 -3.488159 -0.528245  2.809010  1.011427       1\n",
       "17  0.287359  0.480130  2.720665  0.876292 -0.449912       1\n",
       "1   1.509928  1.475186 -3.388981  1.338694  2.528564       0\n",
       "28  1.579884  0.713481 -1.094080 -1.631334  1.575764       0\n",
       "17  0.287359  0.480130  2.720665  0.876292 -0.449912       1\n",
       "50 -0.023319 -0.059465  1.603164  1.026393  1.237438       1\n",
       "44  2.862564 -0.346197  1.214956 -3.397840  0.020261       0\n",
       "86  1.088361  0.149309  0.299907 -1.824742  0.226370       0"
      ]
     },
     "execution_count": 79,
     "metadata": {},
     "output_type": "execute_result"
    }
   ],
   "source": [
    "df3"
   ]
  },
  {
   "cell_type": "code",
   "execution_count": 80,
   "metadata": {
    "id": "Ee9eCA0tbdlo"
   },
   "outputs": [],
   "source": [
    "from sklearn.tree import DecisionTreeClassifier\n",
    "clf1 = DecisionTreeClassifier()\n",
    "clf2 = DecisionTreeClassifier()\n",
    "clf3 = DecisionTreeClassifier()"
   ]
  },
  {
   "cell_type": "code",
   "execution_count": 81,
   "metadata": {
    "colab": {
     "base_uri": "https://localhost:8080/"
    },
    "id": "FsbRwvPGbskE",
    "outputId": "ea00a6c2-c5c9-413b-ec38-071670643e3e"
   },
   "outputs": [
    {
     "data": {
      "text/plain": [
       "DecisionTreeClassifier()"
      ]
     },
     "execution_count": 81,
     "metadata": {},
     "output_type": "execute_result"
    }
   ],
   "source": [
    "# NOTE \n",
    "# 1 ham e jab column sampling karenge to hame yha column dik se pass krne honge\n",
    "clf1.fit(df1.iloc[:,0:5],df1.iloc[:,-1])\n",
    "clf2.fit(df2.iloc[:,0:5],df2.iloc[:,-1])   \n",
    "clf3.fit(df3.iloc[:,0:5],df3.iloc[:,-1])"
   ]
  },
  {
   "cell_type": "code",
   "execution_count": 82,
   "metadata": {
    "id": "1TgG9KBcb75I"
   },
   "outputs": [],
   "source": [
    "from sklearn.tree import plot_tree"
   ]
  },
  {
   "cell_type": "code",
   "execution_count": 83,
   "metadata": {
    "colab": {
     "base_uri": "https://localhost:8080/",
     "height": 542
    },
    "id": "ezaWbbKlcDo8",
    "outputId": "eccea661-a3d3-40f6-f6de-2e90ffd2be78"
   },
   "outputs": [
    {
     "data": {
      "text/plain": [
       "[Text(200.88000000000002, 190.26, 'X[3] <= -0.145\\ngini = 0.491\\nsamples = 30\\nvalue = [17, 13]'),\n",
       " Text(133.92000000000002, 135.9, 'X[1] <= -0.701\\ngini = 0.255\\nsamples = 20\\nvalue = [17, 3]'),\n",
       " Text(66.96000000000001, 81.53999999999999, 'gini = 0.0\\nsamples = 2\\nvalue = [0, 2]'),\n",
       " Text(200.88000000000002, 81.53999999999999, 'X[2] <= 0.998\\ngini = 0.105\\nsamples = 18\\nvalue = [17, 1]'),\n",
       " Text(133.92000000000002, 27.180000000000007, 'gini = 0.0\\nsamples = 17\\nvalue = [17, 0]'),\n",
       " Text(267.84000000000003, 27.180000000000007, 'gini = 0.0\\nsamples = 1\\nvalue = [0, 1]'),\n",
       " Text(267.84000000000003, 135.9, 'gini = 0.0\\nsamples = 10\\nvalue = [0, 10]')]"
      ]
     },
     "execution_count": 83,
     "metadata": {},
     "output_type": "execute_result"
    },
    {
     "data": {
      "image/png": "[encoded data removed]",
      "text/plain": [
       "<Figure size 432x288 with 1 Axes>"
      ]
     },
     "metadata": {
      "needs_background": "light"
     },
     "output_type": "display_data"
    }
   ],
   "source": [
    "plot_tree(clf1)"
   ]
  },
  {
   "cell_type": "code",
   "execution_count": 84,
   "metadata": {
    "colab": {
     "base_uri": "https://localhost:8080/",
     "height": 473
    },
    "id": "hYpTwnxOcFgA",
    "outputId": "1191ef5b-7551-402d-8ccb-593eb90ad126"
   },
   "outputs": [
    {
     "data": {
      "text/plain": [
       "[Text(133.92000000000002, 181.2, 'X[3] <= -0.154\\ngini = 0.5\\nsamples = 30\\nvalue = [15, 15]'),\n",
       " Text(66.96000000000001, 108.72, 'gini = 0.0\\nsamples = 13\\nvalue = [13, 0]'),\n",
       " Text(200.88000000000002, 108.72, 'X[2] <= -1.744\\ngini = 0.208\\nsamples = 17\\nvalue = [2, 15]'),\n",
       " Text(133.92000000000002, 36.23999999999998, 'gini = 0.0\\nsamples = 2\\nvalue = [2, 0]'),\n",
       " Text(267.84000000000003, 36.23999999999998, 'gini = 0.0\\nsamples = 15\\nvalue = [0, 15]')]"
      ]
     },
     "execution_count": 84,
     "metadata": {},
     "output_type": "execute_result"
    },
    {
     "data": {
      "image/png": "[encoded data removed]",
      "text/plain": [
       "<Figure size 432x288 with 1 Axes>"
      ]
     },
     "metadata": {
      "needs_background": "light"
     },
     "output_type": "display_data"
    }
   ],
   "source": [
    "plot_tree(clf2)"
   ]
  },
  {
   "cell_type": "code",
   "execution_count": 85,
   "metadata": {
    "colab": {
     "base_uri": "https://localhost:8080/",
     "height": 438
    },
    "id": "hoW0vMXScRMk",
    "outputId": "2e9d4596-08e9-46dc-c440-1584ebd9f95a"
   },
   "outputs": [
    {
     "data": {
      "text/plain": [
       "[Text(167.4, 181.2, 'X[2] <= 0.171\\ngini = 0.491\\nsamples = 30\\nvalue = [17, 13]'),\n",
       " Text(83.7, 108.72, 'X[1] <= -1.584\\ngini = 0.133\\nsamples = 14\\nvalue = [13, 1]'),\n",
       " Text(41.85, 36.23999999999998, 'gini = 0.0\\nsamples = 1\\nvalue = [0, 1]'),\n",
       " Text(125.55000000000001, 36.23999999999998, 'gini = 0.0\\nsamples = 13\\nvalue = [13, 0]'),\n",
       " Text(251.10000000000002, 108.72, 'X[3] <= -1.376\\ngini = 0.375\\nsamples = 16\\nvalue = [4, 12]'),\n",
       " Text(209.25, 36.23999999999998, 'gini = 0.0\\nsamples = 4\\nvalue = [4, 0]'),\n",
       " Text(292.95, 36.23999999999998, 'gini = 0.0\\nsamples = 12\\nvalue = [0, 12]')]"
      ]
     },
     "execution_count": 85,
     "metadata": {},
     "output_type": "execute_result"
    },
    {
     "data": {
      "image/png": "[encoded data removed]",
      "text/plain": [
       "<Figure size 432x288 with 1 Axes>"
      ]
     },
     "metadata": {
      "needs_background": "light"
     },
     "output_type": "display_data"
    }
   ],
   "source": [
    "plot_tree(clf3)"
   ]
  },
  {
   "cell_type": "code",
   "execution_count": 65,
   "metadata": {
    "colab": {
     "base_uri": "https://localhost:8080/"
    },
    "id": "I6TF3rdncVt0",
    "outputId": "c55af97d-a9fd-4f7d-c740-101551f4fc3d"
   },
   "outputs": [
    {
     "data": {
      "text/plain": [
       "array([1])"
      ]
     },
     "execution_count": 65,
     "metadata": {},
     "output_type": "execute_result"
    }
   ],
   "source": [
    "clf1.predict(np.array([0.103599,1.44,1.002247,0.713961,3.673162]).reshape(1,5))"
   ]
  },
  {
   "cell_type": "code",
   "execution_count": 67,
   "metadata": {
    "colab": {
     "base_uri": "https://localhost:8080/"
    },
    "id": "VM7HvDCqiMo0",
    "outputId": "26db8422-8897-48fa-dff6-cf21e9aef41b"
   },
   "outputs": [
    {
     "data": {
      "text/plain": [
       "array([1])"
      ]
     },
     "execution_count": 67,
     "metadata": {},
     "output_type": "execute_result"
    }
   ],
   "source": [
    "clf2.predict(np.array([0.103599,1.44,1.002247,0.713961,3.673162]).reshape(1,5))"
   ]
  },
  {
   "cell_type": "code",
   "execution_count": 69,
   "metadata": {
    "colab": {
     "base_uri": "https://localhost:8080/"
    },
    "id": "ppIM05J2iTYg",
    "outputId": "7b181b3f-3ab5-46bc-da57-28b3be2402f0"
   },
   "outputs": [
    {
     "data": {
      "text/plain": [
       "array([1])"
      ]
     },
     "execution_count": 69,
     "metadata": {},
     "output_type": "execute_result"
    }
   ],
   "source": [
    "clf3.predict(np.array([0.103599,1.44,1.002247,0.713961,3.673162]).reshape(1,5))   \n",
    "\n",
    "# yah hamre three model bol rhe new data point ke liye ke dino 1 "
   ]
  },
  {
   "cell_type": "code",
   "execution_count": 70,
   "metadata": {
    "colab": {
     "base_uri": "https://localhost:8080/",
     "height": 465
    },
    "id": "nIrui56hiU7X",
    "outputId": "64d6f3ff-47dd-43ea-b57f-d94bf14cec1e"
   },
   "outputs": [
    {
     "data": {
      "text/html": [
       "<div>\n",
       "<style scoped>\n",
       "    .dataframe tbody tr th:only-of-type {\n",
       "        vertical-align: middle;\n",
       "    }\n",
       "\n",
       "    .dataframe tbody tr th {\n",
       "        vertical-align: top;\n",
       "    }\n",
       "\n",
       "    .dataframe thead th {\n",
       "        text-align: right;\n",
       "    }\n",
       "</style>\n",
       "<table border=\"1\" class=\"dataframe\">\n",
       "  <thead>\n",
       "    <tr style=\"text-align: right;\">\n",
       "      <th></th>\n",
       "      <th>col1</th>\n",
       "      <th>col2</th>\n",
       "      <th>col3</th>\n",
       "      <th>col4</th>\n",
       "      <th>col5</th>\n",
       "      <th>target</th>\n",
       "    </tr>\n",
       "  </thead>\n",
       "  <tbody>\n",
       "    <tr>\n",
       "      <th>61</th>\n",
       "      <td>0.563247</td>\n",
       "      <td>0.555581</td>\n",
       "      <td>-1.421943</td>\n",
       "      <td>-0.585759</td>\n",
       "      <td>1.583852</td>\n",
       "      <td>0</td>\n",
       "    </tr>\n",
       "    <tr>\n",
       "      <th>94</th>\n",
       "      <td>2.377510</td>\n",
       "      <td>0.077633</td>\n",
       "      <td>-0.181872</td>\n",
       "      <td>-1.506541</td>\n",
       "      <td>0.536248</td>\n",
       "      <td>0</td>\n",
       "    </tr>\n",
       "    <tr>\n",
       "      <th>55</th>\n",
       "      <td>2.448138</td>\n",
       "      <td>0.407401</td>\n",
       "      <td>1.288691</td>\n",
       "      <td>-0.069260</td>\n",
       "      <td>3.203983</td>\n",
       "      <td>1</td>\n",
       "    </tr>\n",
       "    <tr>\n",
       "      <th>65</th>\n",
       "      <td>0.453227</td>\n",
       "      <td>0.529041</td>\n",
       "      <td>0.310028</td>\n",
       "      <td>-2.356507</td>\n",
       "      <td>0.416574</td>\n",
       "      <td>0</td>\n",
       "    </tr>\n",
       "    <tr>\n",
       "      <th>34</th>\n",
       "      <td>1.500942</td>\n",
       "      <td>-1.324581</td>\n",
       "      <td>1.036459</td>\n",
       "      <td>1.359007</td>\n",
       "      <td>-0.039444</td>\n",
       "      <td>1</td>\n",
       "    </tr>\n",
       "    <tr>\n",
       "      <th>17</th>\n",
       "      <td>0.287359</td>\n",
       "      <td>0.480130</td>\n",
       "      <td>2.720665</td>\n",
       "      <td>0.876292</td>\n",
       "      <td>-0.449912</td>\n",
       "      <td>1</td>\n",
       "    </tr>\n",
       "    <tr>\n",
       "      <th>16</th>\n",
       "      <td>0.248320</td>\n",
       "      <td>-2.439774</td>\n",
       "      <td>0.444997</td>\n",
       "      <td>3.225542</td>\n",
       "      <td>0.611991</td>\n",
       "      <td>1</td>\n",
       "    </tr>\n",
       "    <tr>\n",
       "      <th>43</th>\n",
       "      <td>1.437581</td>\n",
       "      <td>-0.396884</td>\n",
       "      <td>0.096587</td>\n",
       "      <td>-3.518312</td>\n",
       "      <td>2.274421</td>\n",
       "      <td>0</td>\n",
       "    </tr>\n",
       "    <tr>\n",
       "      <th>84</th>\n",
       "      <td>-0.199772</td>\n",
       "      <td>-1.104749</td>\n",
       "      <td>1.057973</td>\n",
       "      <td>1.343040</td>\n",
       "      <td>-0.529280</td>\n",
       "      <td>1</td>\n",
       "    </tr>\n",
       "    <tr>\n",
       "      <th>1</th>\n",
       "      <td>1.509928</td>\n",
       "      <td>1.475186</td>\n",
       "      <td>-3.388981</td>\n",
       "      <td>1.338694</td>\n",
       "      <td>2.528564</td>\n",
       "      <td>0</td>\n",
       "    </tr>\n",
       "    <tr>\n",
       "      <th>79</th>\n",
       "      <td>1.742054</td>\n",
       "      <td>0.845850</td>\n",
       "      <td>-0.405367</td>\n",
       "      <td>-1.999763</td>\n",
       "      <td>1.056669</td>\n",
       "      <td>0</td>\n",
       "    </tr>\n",
       "    <tr>\n",
       "      <th>93</th>\n",
       "      <td>1.691426</td>\n",
       "      <td>-2.796850</td>\n",
       "      <td>-0.471404</td>\n",
       "      <td>1.056151</td>\n",
       "      <td>2.626933</td>\n",
       "      <td>1</td>\n",
       "    </tr>\n",
       "    <tr>\n",
       "      <th>90</th>\n",
       "      <td>2.931239</td>\n",
       "      <td>1.502133</td>\n",
       "      <td>-2.147887</td>\n",
       "      <td>-0.437498</td>\n",
       "      <td>1.593685</td>\n",
       "      <td>0</td>\n",
       "    </tr>\n",
       "    <tr>\n",
       "      <th>29</th>\n",
       "      <td>1.175565</td>\n",
       "      <td>2.025058</td>\n",
       "      <td>-3.792906</td>\n",
       "      <td>3.083053</td>\n",
       "      <td>1.590894</td>\n",
       "      <td>0</td>\n",
       "    </tr>\n",
       "  </tbody>\n",
       "</table>\n",
       "</div>"
      ],
      "text/plain": [
       "        col1      col2      col3      col4      col5  target\n",
       "61  0.563247  0.555581 -1.421943 -0.585759  1.583852       0\n",
       "94  2.377510  0.077633 -0.181872 -1.506541  0.536248       0\n",
       "55  2.448138  0.407401  1.288691 -0.069260  3.203983       1\n",
       "65  0.453227  0.529041  0.310028 -2.356507  0.416574       0\n",
       "34  1.500942 -1.324581  1.036459  1.359007 -0.039444       1\n",
       "17  0.287359  0.480130  2.720665  0.876292 -0.449912       1\n",
       "16  0.248320 -2.439774  0.444997  3.225542  0.611991       1\n",
       "43  1.437581 -0.396884  0.096587 -3.518312  2.274421       0\n",
       "84 -0.199772 -1.104749  1.057973  1.343040 -0.529280       1\n",
       "1   1.509928  1.475186 -3.388981  1.338694  2.528564       0\n",
       "79  1.742054  0.845850 -0.405367 -1.999763  1.056669       0\n",
       "93  1.691426 -2.796850 -0.471404  1.056151  2.626933       1\n",
       "90  2.931239  1.502133 -2.147887 -0.437498  1.593685       0\n",
       "29  1.175565  2.025058 -3.792906  3.083053  1.590894       0"
      ]
     },
     "execution_count": 70,
     "metadata": {},
     "output_type": "execute_result"
    }
   ],
   "source": [
    "df.sample(14,replace=True)"
   ]
  },
  {
   "cell_type": "code",
   "execution_count": null,
   "metadata": {
    "id": "LCVUEl5okDtB"
   },
   "outputs": [],
   "source": []
  }
 ],
 "metadata": {
  "colab": {
   "name": "rf-learning-tool.ipynb",
   "provenance": []
  },
  "kernelspec": {
   "display_name": "Python 3",
   "language": "python",
   "name": "python3"
  },
  "language_info": {
   "codemirror_mode": {
    "name": "ipython",
    "version": 3
   },
   "file_extension": ".py",
   "mimetype": "text/x-python",
   "name": "python",
   "nbconvert_exporter": "python",
   "pygments_lexer": "ipython3",
   "version": "3.8.5"
  }
 },
 "nbformat": 4,
 "nbformat_minor": 1
}
